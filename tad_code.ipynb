{
  "cells": [
    {
      "cell_type": "code",
      "source": [
        "from google.colab import drive\n",
        "\n",
        "drive.mount('/content/drive')"
      ],
      "metadata": {
        "colab": {
          "base_uri": "https://localhost:8080/"
        },
        "id": "_vAqZ_MtyZhl",
        "outputId": "9cc5502c-9dcd-4bd9-b1ef-2c734cd1d2c0"
      },
      "id": "_vAqZ_MtyZhl",
      "execution_count": null,
      "outputs": [
        {
          "output_type": "stream",
          "name": "stdout",
          "text": [
            "Mounted at /content/drive\n"
          ]
        }
      ]
    },
    {
      "cell_type": "code",
      "source": [
        "import os\n",
        "path=\"/content/drive/MyDrive/coursework_dataset\"\n",
        "os.chdir(path)\n",
        "os.listdir(path)"
      ],
      "metadata": {
        "colab": {
          "base_uri": "https://localhost:8080/"
        },
        "id": "kJAWkj9SyUA9",
        "outputId": "728593b0-7d3e-4343-a78d-3fde6d317c91"
      },
      "id": "kJAWkj9SyUA9",
      "execution_count": null,
      "outputs": [
        {
          "output_type": "execute_result",
          "data": {
            "text/plain": [
              "['val.json', 'test.json', 'train.json']"
            ]
          },
          "metadata": {},
          "execution_count": 2
        }
      ]
    },
    {
      "cell_type": "code",
      "source": [
        "!pip install transformers[torch] datasets"
      ],
      "metadata": {
        "colab": {
          "base_uri": "https://localhost:8080/"
        },
        "id": "PI0bThwR5pln",
        "outputId": "3766e1d0-cf03-489c-af76-33c40cdb000b"
      },
      "id": "PI0bThwR5pln",
      "execution_count": null,
      "outputs": [
        {
          "output_type": "stream",
          "name": "stdout",
          "text": [
            "Requirement already satisfied: transformers[torch] in /usr/local/lib/python3.10/dist-packages (4.38.2)\n",
            "Collecting datasets\n",
            "  Downloading datasets-2.18.0-py3-none-any.whl (510 kB)\n",
            "\u001b[2K     \u001b[90m━━━━━━━━━━━━━━━━━━━━━━━━━━━━━━━━━━━━━━━━\u001b[0m \u001b[32m510.5/510.5 kB\u001b[0m \u001b[31m3.3 MB/s\u001b[0m eta \u001b[36m0:00:00\u001b[0m\n",
            "\u001b[?25hRequirement already satisfied: filelock in /usr/local/lib/python3.10/dist-packages (from transformers[torch]) (3.13.1)\n",
            "Requirement already satisfied: huggingface-hub<1.0,>=0.19.3 in /usr/local/lib/python3.10/dist-packages (from transformers[torch]) (0.20.3)\n",
            "Requirement already satisfied: numpy>=1.17 in /usr/local/lib/python3.10/dist-packages (from transformers[torch]) (1.25.2)\n",
            "Requirement already satisfied: packaging>=20.0 in /usr/local/lib/python3.10/dist-packages (from transformers[torch]) (23.2)\n",
            "Requirement already satisfied: pyyaml>=5.1 in /usr/local/lib/python3.10/dist-packages (from transformers[torch]) (6.0.1)\n",
            "Requirement already satisfied: regex!=2019.12.17 in /usr/local/lib/python3.10/dist-packages (from transformers[torch]) (2023.12.25)\n",
            "Requirement already satisfied: requests in /usr/local/lib/python3.10/dist-packages (from transformers[torch]) (2.31.0)\n",
            "Requirement already satisfied: tokenizers<0.19,>=0.14 in /usr/local/lib/python3.10/dist-packages (from transformers[torch]) (0.15.2)\n",
            "Requirement already satisfied: safetensors>=0.4.1 in /usr/local/lib/python3.10/dist-packages (from transformers[torch]) (0.4.2)\n",
            "Requirement already satisfied: tqdm>=4.27 in /usr/local/lib/python3.10/dist-packages (from transformers[torch]) (4.66.2)\n",
            "Requirement already satisfied: torch in /usr/local/lib/python3.10/dist-packages (from transformers[torch]) (2.1.0+cu121)\n",
            "Collecting accelerate>=0.21.0 (from transformers[torch])\n",
            "  Downloading accelerate-0.27.2-py3-none-any.whl (279 kB)\n",
            "\u001b[2K     \u001b[90m━━━━━━━━━━━━━━━━━━━━━━━━━━━━━━━━━━━━━━━━\u001b[0m \u001b[32m280.0/280.0 kB\u001b[0m \u001b[31m26.5 MB/s\u001b[0m eta \u001b[36m0:00:00\u001b[0m\n",
            "\u001b[?25hRequirement already satisfied: pyarrow>=12.0.0 in /usr/local/lib/python3.10/dist-packages (from datasets) (14.0.2)\n",
            "Requirement already satisfied: pyarrow-hotfix in /usr/local/lib/python3.10/dist-packages (from datasets) (0.6)\n",
            "Collecting dill<0.3.9,>=0.3.0 (from datasets)\n",
            "  Downloading dill-0.3.8-py3-none-any.whl (116 kB)\n",
            "\u001b[2K     \u001b[90m━━━━━━━━━━━━━━━━━━━━━━━━━━━━━━━━━━━━━━━━\u001b[0m \u001b[32m116.3/116.3 kB\u001b[0m \u001b[31m14.1 MB/s\u001b[0m eta \u001b[36m0:00:00\u001b[0m\n",
            "\u001b[?25hRequirement already satisfied: pandas in /usr/local/lib/python3.10/dist-packages (from datasets) (1.5.3)\n",
            "Requirement already satisfied: xxhash in /usr/local/lib/python3.10/dist-packages (from datasets) (3.4.1)\n",
            "Collecting multiprocess (from datasets)\n",
            "  Downloading multiprocess-0.70.16-py310-none-any.whl (134 kB)\n",
            "\u001b[2K     \u001b[90m━━━━━━━━━━━━━━━━━━━━━━━━━━━━━━━━━━━━━━━━\u001b[0m \u001b[32m134.8/134.8 kB\u001b[0m \u001b[31m10.0 MB/s\u001b[0m eta \u001b[36m0:00:00\u001b[0m\n",
            "\u001b[?25hRequirement already satisfied: fsspec[http]<=2024.2.0,>=2023.1.0 in /usr/local/lib/python3.10/dist-packages (from datasets) (2023.6.0)\n",
            "Requirement already satisfied: aiohttp in /usr/local/lib/python3.10/dist-packages (from datasets) (3.9.3)\n",
            "Requirement already satisfied: psutil in /usr/local/lib/python3.10/dist-packages (from accelerate>=0.21.0->transformers[torch]) (5.9.5)\n",
            "Requirement already satisfied: aiosignal>=1.1.2 in /usr/local/lib/python3.10/dist-packages (from aiohttp->datasets) (1.3.1)\n",
            "Requirement already satisfied: attrs>=17.3.0 in /usr/local/lib/python3.10/dist-packages (from aiohttp->datasets) (23.2.0)\n",
            "Requirement already satisfied: frozenlist>=1.1.1 in /usr/local/lib/python3.10/dist-packages (from aiohttp->datasets) (1.4.1)\n",
            "Requirement already satisfied: multidict<7.0,>=4.5 in /usr/local/lib/python3.10/dist-packages (from aiohttp->datasets) (6.0.5)\n",
            "Requirement already satisfied: yarl<2.0,>=1.0 in /usr/local/lib/python3.10/dist-packages (from aiohttp->datasets) (1.9.4)\n",
            "Requirement already satisfied: async-timeout<5.0,>=4.0 in /usr/local/lib/python3.10/dist-packages (from aiohttp->datasets) (4.0.3)\n",
            "Requirement already satisfied: typing-extensions>=3.7.4.3 in /usr/local/lib/python3.10/dist-packages (from huggingface-hub<1.0,>=0.19.3->transformers[torch]) (4.10.0)\n",
            "Requirement already satisfied: charset-normalizer<4,>=2 in /usr/local/lib/python3.10/dist-packages (from requests->transformers[torch]) (3.3.2)\n",
            "Requirement already satisfied: idna<4,>=2.5 in /usr/local/lib/python3.10/dist-packages (from requests->transformers[torch]) (3.6)\n",
            "Requirement already satisfied: urllib3<3,>=1.21.1 in /usr/local/lib/python3.10/dist-packages (from requests->transformers[torch]) (2.0.7)\n",
            "Requirement already satisfied: certifi>=2017.4.17 in /usr/local/lib/python3.10/dist-packages (from requests->transformers[torch]) (2024.2.2)\n",
            "Requirement already satisfied: sympy in /usr/local/lib/python3.10/dist-packages (from torch->transformers[torch]) (1.12)\n",
            "Requirement already satisfied: networkx in /usr/local/lib/python3.10/dist-packages (from torch->transformers[torch]) (3.2.1)\n",
            "Requirement already satisfied: jinja2 in /usr/local/lib/python3.10/dist-packages (from torch->transformers[torch]) (3.1.3)\n",
            "Requirement already satisfied: triton==2.1.0 in /usr/local/lib/python3.10/dist-packages (from torch->transformers[torch]) (2.1.0)\n",
            "Requirement already satisfied: python-dateutil>=2.8.1 in /usr/local/lib/python3.10/dist-packages (from pandas->datasets) (2.8.2)\n",
            "Requirement already satisfied: pytz>=2020.1 in /usr/local/lib/python3.10/dist-packages (from pandas->datasets) (2023.4)\n",
            "Requirement already satisfied: six>=1.5 in /usr/local/lib/python3.10/dist-packages (from python-dateutil>=2.8.1->pandas->datasets) (1.16.0)\n",
            "Requirement already satisfied: MarkupSafe>=2.0 in /usr/local/lib/python3.10/dist-packages (from jinja2->torch->transformers[torch]) (2.1.5)\n",
            "Requirement already satisfied: mpmath>=0.19 in /usr/local/lib/python3.10/dist-packages (from sympy->torch->transformers[torch]) (1.3.0)\n",
            "Installing collected packages: dill, multiprocess, accelerate, datasets\n",
            "Successfully installed accelerate-0.27.2 datasets-2.18.0 dill-0.3.8 multiprocess-0.70.16\n"
          ]
        }
      ]
    },
    {
      "cell_type": "markdown",
      "source": [
        "## **Dataset and Pre-Processing**"
      ],
      "metadata": {
        "id": "end-ASltXRgl"
      },
      "id": "end-ASltXRgl"
    },
    {
      "cell_type": "code",
      "execution_count": null,
      "id": "cacf89a8",
      "metadata": {
        "id": "cacf89a8"
      },
      "outputs": [],
      "source": [
        "import json\n",
        "\n",
        "train_data_path = '/content/drive/MyDrive/coursework_dataset/train.json'\n",
        "val_data_path = '/content/drive/MyDrive/coursework_dataset/val.json'\n",
        "test_data_path = '/content/drive/MyDrive/coursework_dataset/test.json'\n",
        "\n",
        "# Function to load the data\n",
        "def load_data(file_path):\n",
        "    with open(file_path, 'r', encoding='utf-8') as file:\n",
        "        return json.load(file)\n",
        "\n",
        "# Load the data\n",
        "train_data = load_data(train_data_path)\n",
        "val_data = load_data(val_data_path)\n",
        "test_data = load_data(test_data_path)"
      ]
    },
    {
      "cell_type": "code",
      "execution_count": null,
      "id": "5d4392d9",
      "metadata": {
        "colab": {
          "base_uri": "https://localhost:8080/"
        },
        "id": "5d4392d9",
        "outputId": "13322c1b-8f1b-4caa-8a6d-e84a6c8b3ab2"
      },
      "outputs": [
        {
          "output_type": "execute_result",
          "data": {
            "text/plain": [
              "('lemmatizer', <spacy.lang.en.lemmatizer.EnglishLemmatizer at 0x7b3940102380>)"
            ]
          },
          "metadata": {},
          "execution_count": 4
        }
      ],
      "source": [
        "import spacy\n",
        "\n",
        "# Load the small english model.\n",
        "# Disable the advanced NLP features in the pipeline for efficiency.\n",
        "nlp = spacy.load('en_core_web_sm', disable=['ner'])\n",
        "nlp.remove_pipe('tagger')\n",
        "nlp.remove_pipe('parser')\n",
        "nlp.remove_pipe('lemmatizer')"
      ]
    },
    {
      "cell_type": "code",
      "execution_count": null,
      "id": "5fcced9a",
      "metadata": {
        "id": "5fcced9a"
      },
      "outputs": [],
      "source": [
        "def text_pipeline_spacy_special(text):\n",
        "    tokens = []\n",
        "    doc = nlp(text)\n",
        "    for t in doc:\n",
        "        if not t.is_punct and not t.is_space: # what we removed: \"not t.is_stop and\"\n",
        "            tokens.append(t.text.lower()) # what we changed: t.text instead of t.lemma_\n",
        "    return tokens"
      ]
    },
    {
      "cell_type": "code",
      "execution_count": null,
      "id": "04af9c6c",
      "metadata": {
        "colab": {
          "base_uri": "https://localhost:8080/"
        },
        "id": "04af9c6c",
        "outputId": "84c86d2d-f61e-45b6-ca67-7f717b3a1340"
      },
      "outputs": [
        {
          "output_type": "execute_result",
          "data": {
            "text/plain": [
              "{'question': 'how are glacier caves formed?',\n",
              " 'options': ['The ice facade is approximately 60 m high',\n",
              "  'A partly submerged glacier cave on Perito Moreno Glacier .',\n",
              "  'Ice formations in the Titlis glacier cave',\n",
              "  'A glacier cave is a cave formed within the ice of a glacier .'],\n",
              " 'correct_index': 3}"
            ]
          },
          "metadata": {},
          "execution_count": 6
        }
      ],
      "source": [
        "train_data[0]"
      ]
    },
    {
      "cell_type": "code",
      "execution_count": null,
      "id": "13e38bff",
      "metadata": {
        "colab": {
          "base_uri": "https://localhost:8080/"
        },
        "id": "13e38bff",
        "outputId": "90119ae5-dc71-4a4e-b55a-b750055dbe02"
      },
      "outputs": [
        {
          "output_type": "execute_result",
          "data": {
            "text/plain": [
              "dict_keys(['question', 'options', 'correct_index'])"
            ]
          },
          "metadata": {},
          "execution_count": 7
        }
      ],
      "source": [
        "train_data[0].keys()"
      ]
    },
    {
      "cell_type": "code",
      "execution_count": null,
      "id": "092b698d",
      "metadata": {
        "id": "092b698d"
      },
      "outputs": [],
      "source": [
        "from tqdm import tqdm # This provides a nice progress bar\n",
        "def tokenisation(train_data):\n",
        "    for post in tqdm(train_data):\n",
        "        post['question_tokens'] = text_pipeline_spacy_special(post['question'])\n",
        "        options = []\n",
        "        for option in post['options']:\n",
        "            options.append(text_pipeline_spacy_special(option))\n",
        "        post['options_tokens'] = options"
      ]
    },
    {
      "cell_type": "code",
      "execution_count": null,
      "id": "b312b65d",
      "metadata": {
        "colab": {
          "base_uri": "https://localhost:8080/"
        },
        "id": "b312b65d",
        "outputId": "4acaa6c4-2b99-42c7-f346-dee2afbd0aa0"
      },
      "outputs": [
        {
          "output_type": "stream",
          "name": "stderr",
          "text": [
            "100%|██████████| 741/741 [00:12<00:00, 58.31it/s]\n",
            "100%|██████████| 103/103 [00:01<00:00, 56.10it/s]\n",
            "100%|██████████| 202/202 [00:03<00:00, 64.65it/s]\n"
          ]
        }
      ],
      "source": [
        "tokenisation(train_data)\n",
        "tokenisation(val_data)\n",
        "tokenisation(test_data)"
      ]
    },
    {
      "cell_type": "code",
      "execution_count": null,
      "id": "04c0ca5d",
      "metadata": {
        "colab": {
          "base_uri": "https://localhost:8080/"
        },
        "id": "04c0ca5d",
        "outputId": "1ff20ba2-862c-4998-8975-cc57a42b4a00"
      },
      "outputs": [
        {
          "output_type": "execute_result",
          "data": {
            "text/plain": [
              "{'question': 'how are glacier caves formed?',\n",
              " 'options': ['The ice facade is approximately 60 m high',\n",
              "  'A partly submerged glacier cave on Perito Moreno Glacier .',\n",
              "  'Ice formations in the Titlis glacier cave',\n",
              "  'A glacier cave is a cave formed within the ice of a glacier .'],\n",
              " 'correct_index': 3,\n",
              " 'question_tokens': ['how', 'are', 'glacier', 'caves', 'formed'],\n",
              " 'options_tokens': [['the',\n",
              "   'ice',\n",
              "   'facade',\n",
              "   'is',\n",
              "   'approximately',\n",
              "   '60',\n",
              "   'm',\n",
              "   'high'],\n",
              "  ['a',\n",
              "   'partly',\n",
              "   'submerged',\n",
              "   'glacier',\n",
              "   'cave',\n",
              "   'on',\n",
              "   'perito',\n",
              "   'moreno',\n",
              "   'glacier'],\n",
              "  ['ice', 'formations', 'in', 'the', 'titlis', 'glacier', 'cave'],\n",
              "  ['a',\n",
              "   'glacier',\n",
              "   'cave',\n",
              "   'is',\n",
              "   'a',\n",
              "   'cave',\n",
              "   'formed',\n",
              "   'within',\n",
              "   'the',\n",
              "   'ice',\n",
              "   'of',\n",
              "   'a',\n",
              "   'glacier']]}"
            ]
          },
          "metadata": {},
          "execution_count": 11
        }
      ],
      "source": [
        "train_data[0]"
      ]
    },
    {
      "cell_type": "code",
      "execution_count": null,
      "id": "1156bcb6",
      "metadata": {
        "colab": {
          "base_uri": "https://localhost:8080/"
        },
        "id": "1156bcb6",
        "outputId": "e8ad85cf-a5a1-4c3e-8d3b-ac727896c365"
      },
      "outputs": [
        {
          "output_type": "stream",
          "name": "stdout",
          "text": [
            "train data length (741, 2964)\n",
            "val data length (103, 412)\n",
            "test data length (202, 808)\n"
          ]
        }
      ],
      "source": [
        "num_questions_train = len(train_data)\n",
        "num_options_train = sum(len(item['options']) for item in train_data)\n",
        "\n",
        "num_questions_val = len(val_data)\n",
        "num_options_val = sum(len(item['options']) for item in val_data)\n",
        "\n",
        "num_questions_test = len(test_data)\n",
        "num_options_test = sum(len(item['options']) for item in test_data)\n",
        "\n",
        "print(\"train data length\",(num_questions_train, num_options_train))\n",
        "print(\"val data length\",(num_questions_val, num_options_val))\n",
        "print(\"test data length\", (num_questions_test, num_options_test))"
      ]
    },
    {
      "cell_type": "code",
      "execution_count": null,
      "id": "ee1a0c73",
      "metadata": {
        "colab": {
          "base_uri": "https://localhost:8080/"
        },
        "id": "ee1a0c73",
        "outputId": "a099d19e-d8b9-43ff-d374-020038a90411"
      },
      "outputs": [
        {
          "output_type": "stream",
          "name": "stdout",
          "text": [
            "average_tokens_per_question_train 6.272604588394062\n"
          ]
        }
      ],
      "source": [
        "train_questions_tokenized = []\n",
        "for post in train_data:\n",
        "    train_questions_tokenized.append(post['question_tokens'])\n",
        "average_tokens_per_question_train = sum(len(tokens) for tokens in train_questions_tokenized) / len(train_questions_tokenized)\n",
        "print(\"average_tokens_per_question_train\",average_tokens_per_question_train)"
      ]
    },
    {
      "cell_type": "code",
      "execution_count": null,
      "id": "fcd0ba01",
      "metadata": {
        "colab": {
          "base_uri": "https://localhost:8080/"
        },
        "id": "fcd0ba01",
        "outputId": "40775ee5-9dae-4e67-da7d-6f79d1591ef3"
      },
      "outputs": [
        {
          "output_type": "stream",
          "name": "stdout",
          "text": [
            "average_tokens_per_option_train 22.338056680161944\n"
          ]
        }
      ],
      "source": [
        "train_options_tokenized = []\n",
        "for post in train_data:\n",
        "    train_options_tokenized.append(post['options_tokens'])\n",
        "all_options_tokenized = [token for sublist in train_options_tokenized for token in sublist]\n",
        "\n",
        "average_tokens_per_option_train = sum(len(tokens) for tokens in all_options_tokenized) / num_options_train\n",
        "print(\"average_tokens_per_option_train\", average_tokens_per_option_train)"
      ]
    },
    {
      "cell_type": "code",
      "execution_count": null,
      "id": "2dd1fff8",
      "metadata": {
        "colab": {
          "base_uri": "https://localhost:8080/"
        },
        "id": "2dd1fff8",
        "outputId": "09e3b7ae-50c4-4d82-8a8a-ee0ecffce783"
      },
      "outputs": [
        {
          "output_type": "stream",
          "name": "stdout",
          "text": [
            "average_tokens_per_correct_options_train 26.032388663967613\n"
          ]
        }
      ],
      "source": [
        "train_correct_options_tokenized = []\n",
        "for post in train_data:\n",
        "    train_correct_options_tokenized.append(post['options_tokens'][post['correct_index']])\n",
        "average_tokens_per_correct_options_train = sum(len(tokens) for tokens in train_correct_options_tokenized) / len(train_correct_options_tokenized)\n",
        "\n",
        "print(\"average_tokens_per_correct_options_train\", average_tokens_per_correct_options_train)"
      ]
    },
    {
      "cell_type": "markdown",
      "id": "70e11c72",
      "metadata": {
        "id": "70e11c72"
      },
      "source": [
        "we can deal with the whole collection of posts as a single long list of tokens. We'll make one list and combine each post with a special token <START> at the beginning of each."
      ]
    },
    {
      "cell_type": "code",
      "execution_count": null,
      "id": "dcb3679c",
      "metadata": {
        "colab": {
          "base_uri": "https://localhost:8080/"
        },
        "id": "dcb3679c",
        "outputId": "87186f29-f9b4-4be7-c5ee-5320c109ce26"
      },
      "outputs": [
        {
          "output_type": "execute_result",
          "data": {
            "text/plain": [
              "5389"
            ]
          },
          "metadata": {},
          "execution_count": 16
        }
      ],
      "source": [
        "posts_flattened_question_tokens = []\n",
        "for post in train_data:\n",
        "    posts_flattened_question_tokens += ['<START>'] + post['question_tokens']\n",
        "len(posts_flattened_question_tokens)"
      ]
    },
    {
      "cell_type": "markdown",
      "id": "7e80beae",
      "metadata": {
        "id": "7e80beae"
      },
      "source": [
        "And again, we'll create the same flattened list of all the options tokens in each question with the <START> special token."
      ]
    },
    {
      "cell_type": "code",
      "execution_count": null,
      "id": "2970c6c0",
      "metadata": {
        "colab": {
          "base_uri": "https://localhost:8080/"
        },
        "id": "2970c6c0",
        "outputId": "da1a5bef-94f1-42a8-b327-14dd3b46299b"
      },
      "outputs": [
        {
          "output_type": "stream",
          "name": "stdout",
          "text": [
            "741\n",
            "['<START>', 'the', 'ice', 'facade', 'is', 'approximately', '60', 'm', 'high', '<START>', 'a', 'partly', 'submerged', 'glacier', 'cave', 'on', 'perito', 'moreno', 'glacier', '<START>', 'ice', 'formations', 'in', 'the', 'titlis', 'glacier', 'cave', '<START>', 'a', 'glacier', 'cave', 'is', 'a', 'cave', 'formed', 'within', 'the', 'ice', 'of', 'a', 'glacier']\n"
          ]
        }
      ],
      "source": [
        "posts_flattened_options = []\n",
        "for post in train_data:\n",
        "    posts_flattened_option = []\n",
        "    for x in post['options']:\n",
        "        posts_flattened_option += ['<START>'] + text_pipeline_spacy_special(x)\n",
        "    posts_flattened_options.append(posts_flattened_option)\n",
        "print(len(posts_flattened_options))\n",
        "print(posts_flattened_options[0])"
      ]
    },
    {
      "cell_type": "code",
      "execution_count": null,
      "id": "b722d49f",
      "metadata": {
        "colab": {
          "base_uri": "https://localhost:8080/"
        },
        "id": "b722d49f",
        "outputId": "89c618c7-651c-4632-dc37-655c61f53f05"
      },
      "outputs": [
        {
          "output_type": "execute_result",
          "data": {
            "text/plain": [
              "{'Question Lengths Stats': {'Mean': 6.272604588394062,\n",
              "  'Median': 6.0,\n",
              "  'Mode': 5},\n",
              " 'Options Lengths Stats': {'Mean': 22.338056680161944,\n",
              "  'Median': 21.0,\n",
              "  'Mode': 18},\n",
              " 'Correct Longest': 306,\n",
              " 'Correct Shortest': 112,\n",
              " 'Unique Words': 11676,\n",
              " 'Question Starts': Counter({'how': 116,\n",
              "          'what': 390,\n",
              "          'where': 56,\n",
              "          'who': 99,\n",
              "          'when': 80}),\n",
              " 'most common word in flattened options': [('the', 5020),\n",
              "  ('<START>', 2964),\n",
              "  ('of', 2577),\n",
              "  ('and', 2078),\n",
              "  ('in', 1754),\n",
              "  ('a', 1705),\n",
              "  ('is', 1331),\n",
              "  ('to', 1086),\n",
              "  ('as', 715),\n",
              "  ('by', 614)],\n",
              " 'most common word in flattened question': [('<START>', 741),\n",
              "  ('what', 392),\n",
              "  ('is', 304),\n",
              "  ('the', 254),\n",
              "  ('in', 130),\n",
              "  ('how', 116),\n",
              "  ('who', 101),\n",
              "  ('of', 94),\n",
              "  ('a', 91),\n",
              "  ('when', 81)]}"
            ]
          },
          "metadata": {},
          "execution_count": 18
        }
      ],
      "source": [
        "from collections import Counter\n",
        "import numpy as np\n",
        "\n",
        "# 1. Distribution of the number of tokens in questions\n",
        "question_lengths = [len(question) for question in train_questions_tokenized]\n",
        "options_lengths = [len(option) for sublist in train_options_tokenized for option in sublist]\n",
        "\n",
        "# 2. Frequency of the correct answer being the longest or shortest option\n",
        "correct_longest = 0\n",
        "correct_shortest = 0\n",
        "for item in train_data:\n",
        "    lengths = [len(text_pipeline_spacy_special(option)) for option in item['options']]\n",
        "    correct_length = lengths[item['correct_index']]\n",
        "    if correct_length == max(lengths):\n",
        "        correct_longest += 1\n",
        "    if correct_length == min(lengths):\n",
        "        correct_shortest += 1\n",
        "\n",
        "# 3. Number of unique words across all questions and options\n",
        "unique_words = set(word for question in train_questions_tokenized for word in question)\n",
        "for options in train_options_tokenized:\n",
        "    for option in options:\n",
        "        unique_words.update(option)\n",
        "\n",
        "# 4. Distribution of question types\n",
        "question_starts = Counter(question[0] for question in train_questions_tokenized)\n",
        "\n",
        "question_lengths_stats = {\n",
        "    'Mean': np.mean(question_lengths),\n",
        "    'Median': np.median(question_lengths),\n",
        "    'Mode': max(set(question_lengths), key=question_lengths.count)\n",
        "}\n",
        "\n",
        "options_lengths_stats = {\n",
        "    'Mean': np.mean(options_lengths),\n",
        "    'Median': np.median(options_lengths),\n",
        "    'Mode': max(set(options_lengths), key=options_lengths.count)\n",
        "}\n",
        "\n",
        "all_option_words = [option for sublist in posts_flattened_options for option in sublist]\n",
        "\n",
        "# Count the occurrences of each word\n",
        "word_counts = Counter(all_option_words)\n",
        "\n",
        "# Find the 10 most common words\n",
        "most_common_words = word_counts.most_common(10)\n",
        "\n",
        "counts_words_question = Counter(posts_flattened_question_tokens)\n",
        "\n",
        "most_common_words_question = counts_words_question.most_common(10)\n",
        "\n",
        "additional_explorations = {\n",
        "    'Question Lengths Stats': question_lengths_stats,\n",
        "    'Options Lengths Stats': options_lengths_stats,\n",
        "    'Correct Longest': correct_longest,\n",
        "    'Correct Shortest': correct_shortest,\n",
        "    'Unique Words': len(unique_words),\n",
        "    'Question Starts': question_starts,\n",
        "    'most common word in flattened options': most_common_words,\n",
        "    'most common word in flattened question': most_common_words_question\n",
        "}\n",
        "\n",
        "additional_explorations"
      ]
    },
    {
      "cell_type": "markdown",
      "source": [
        "## **Set Similarity Measures**"
      ],
      "metadata": {
        "id": "VYcjQd_YXMJX"
      },
      "id": "VYcjQd_YXMJX"
    },
    {
      "cell_type": "code",
      "execution_count": null,
      "id": "e14d36a2",
      "metadata": {
        "colab": {
          "base_uri": "https://localhost:8080/"
        },
        "id": "e14d36a2",
        "outputId": "ced6f196-7ad6-45c1-c90a-db0b44b45e27"
      },
      "outputs": [
        {
          "output_type": "execute_result",
          "data": {
            "text/plain": [
              "({'overlap': 0.5236167341430499,\n",
              "  'sorensen_dice': 0.4291497975708502,\n",
              "  'jaccard': 0.4291497975708502},\n",
              " {'overlap': 0.46601941747572817,\n",
              "  'sorensen_dice': 0.3592233009708738,\n",
              "  'jaccard': 0.3592233009708738})"
            ]
          },
          "metadata": {},
          "execution_count": 19
        }
      ],
      "source": [
        "def count_overlapping_tokens_with_sets(tokens_X, tokens_Y):\n",
        "    unique_tokens1 = set(tokens_X)\n",
        "    unique_tokens2 = set(tokens_Y)\n",
        "\n",
        "      # Count overlapping tokens\n",
        "    overlap_count = sum(1 for token in unique_tokens1 if token in unique_tokens2)\n",
        "\n",
        "    return overlap_count\n",
        "\n",
        "# Define the set similarity measures: overlap coefficient, Sorensen-Dice & Jaccard\n",
        "def overlap_coefficient(tokens_X,tokens_Y):\n",
        "  # your code!\n",
        "    set_tokens1 = set(tokens_X)\n",
        "    set_tokens2 = set(tokens_Y)\n",
        "\n",
        "    intersection_size = count_overlapping_tokens_with_sets(tokens_X,tokens_Y)\n",
        "    # Calculate the overlap coefficient\n",
        "    coefficient = intersection_size / min(len(set_tokens1), len(set_tokens2))\n",
        "\n",
        "    return coefficient\n",
        "\n",
        "def sorenson_dice(tokens_X,tokens_Y):\n",
        "    set_tokens1 = set(tokens_X)\n",
        "    set_tokens2 = set(tokens_Y)\n",
        "\n",
        "    intersection_size = count_overlapping_tokens_with_sets(tokens_X,tokens_Y)\n",
        "        # Calculate the overlap coefficient\n",
        "    sorenson = 2*intersection_size / (len(set_tokens1) + len(set_tokens2))\n",
        "\n",
        "    return sorenson\n",
        "\n",
        "def jaccard_similarity(tokens_X,tokens_Y):\n",
        "    set_tokens1 = set(tokens_X)\n",
        "    set_tokens2 = set(tokens_Y)\n",
        "\n",
        "    intersection_size = count_overlapping_tokens_with_sets(tokens_X,tokens_Y)\n",
        "\n",
        "    jaccard = intersection_size / len(set_tokens1.union(set_tokens2))\n",
        "    return jaccard\n",
        "\n",
        "# Function to evaluate the similarity measures\n",
        "def evaluate_similarity(data):\n",
        "    results = {\n",
        "        'overlap': [],\n",
        "        'sorensen_dice': [],\n",
        "        'jaccard': []\n",
        "    }\n",
        "\n",
        "    for item in data:\n",
        "        question_set = set(item['question_tokens'])\n",
        "        max_overlap = max_sorensen_dice = max_jaccard = -1\n",
        "        chosen_overlap = chosen_sorensen_dice = chosen_jaccard = -1\n",
        "\n",
        "\n",
        "        for i, option_tokens in enumerate(item['options_tokens']):\n",
        "            option_set = set(option_tokens)\n",
        "            overlap = overlap_coefficient(question_set, option_set)\n",
        "            sorensen_dice = sorenson_dice(question_set, option_set)\n",
        "            jaccard = jaccard_similarity(question_set, option_set)\n",
        "\n",
        "            if overlap > max_overlap:\n",
        "                max_overlap = overlap\n",
        "                chosen_overlap = i\n",
        "            if sorensen_dice > max_sorensen_dice:\n",
        "                max_sorensen_dice = sorensen_dice\n",
        "                chosen_sorensen_dice = i\n",
        "            if jaccard > max_jaccard:\n",
        "                max_jaccard = jaccard\n",
        "                chosen_jaccard = i\n",
        "\n",
        "        results['overlap'].append(chosen_overlap == item['correct_index'])\n",
        "        results['sorensen_dice'].append(chosen_sorensen_dice == item['correct_index'])\n",
        "        results['jaccard'].append(chosen_jaccard == item['correct_index'])\n",
        "\n",
        "    return {measure: sum(correct) / len(correct) for measure, correct in results.items()}\n",
        "\n",
        "# Evaluate on the training set\n",
        "train_performance = evaluate_similarity(train_data)\n",
        "\n",
        "# Evaluate on the validation set\n",
        "val_performance = evaluate_similarity(val_data)\n",
        "\n",
        "train_performance, val_performance\n"
      ]
    },
    {
      "cell_type": "code",
      "execution_count": null,
      "id": "44227f88",
      "metadata": {
        "colab": {
          "base_uri": "https://localhost:8080/"
        },
        "id": "44227f88",
        "outputId": "6c8939a7-d475-4c73-f12d-4ae5426081ee"
      },
      "outputs": [
        {
          "output_type": "stream",
          "name": "stdout",
          "text": [
            "[[0.0, 0.2, 0.2, 0.4]] [[0.0, 0.15384615384615385, 0.16666666666666666, 0.2857142857142857]] [[0.0, 0.08333333333333333, 0.09090909090909091, 0.16666666666666666]]\n"
          ]
        },
        {
          "output_type": "execute_result",
          "data": {
            "text/plain": [
              "({'overlap': 246, 'sorensen_dice': 20, 'jaccard': 20},\n",
              " {'overlap': 29, 'sorensen_dice': 4, 'jaccard': 4})"
            ]
          },
          "metadata": {},
          "execution_count": 20
        }
      ],
      "source": [
        "def record_similarity_scores(data):\n",
        "    # Initializing a dictionary to hold similarity scores for each question\n",
        "    similarity_scores = {\n",
        "        'overlap': [],\n",
        "        'sorensen_dice': [],\n",
        "        'jaccard': []\n",
        "    }\n",
        "    # Initializing counters for the ties\n",
        "    tie_counters = {\n",
        "        'overlap': 0,\n",
        "        'sorensen_dice': 0,\n",
        "        'jaccard': 0\n",
        "    }\n",
        "\n",
        "    # Iterating through each item in the dataset\n",
        "    for item in data:\n",
        "        question_set = set(item['question_tokens'])\n",
        "        scores = {\n",
        "            'overlap': [],\n",
        "            'sorensen_dice': [],\n",
        "            'jaccard': []\n",
        "        }\n",
        "\n",
        "        # Calculating similarity scores for each option\n",
        "        for option_tokens in item['options_tokens']:\n",
        "            option_set = set(option_tokens)\n",
        "            scores['overlap'].append(overlap_coefficient(question_set, option_set))\n",
        "            scores['sorensen_dice'].append(sorenson_dice(question_set, option_set))\n",
        "            scores['jaccard'].append(jaccard_similarity(question_set, option_set))\n",
        "\n",
        "        # Recording the calculated scores\n",
        "        similarity_scores['overlap'].append(scores['overlap'])\n",
        "        similarity_scores['sorensen_dice'].append(scores['sorensen_dice'])\n",
        "        similarity_scores['jaccard'].append(scores['jaccard'])\n",
        "\n",
        "        # Checking for ties in the scores for each measure\n",
        "        for measure in scores:\n",
        "            max_score = max(scores[measure])\n",
        "            # Check if there are ties for the highest score\n",
        "            if scores[measure].count(max_score) > 1:\n",
        "                tie_counters[measure] += 1\n",
        "\n",
        "\n",
        "    return similarity_scores,tie_counters\n",
        "\n",
        "# Recording similarity scores for both training and validation datasets\n",
        "train_similarity_scores,train_ties_counts = record_similarity_scores(train_data)\n",
        "val_similarity_scores, val_ties_counts = record_similarity_scores(val_data)\n",
        "\n",
        "print(train_similarity_scores['overlap'][:1], train_similarity_scores['sorensen_dice'][:1], train_similarity_scores['jaccard'][:1])\n",
        "train_ties_counts,val_ties_counts"
      ]
    },
    {
      "cell_type": "markdown",
      "source": [
        "### Use random choice to choose option when the similarity is same"
      ],
      "metadata": {
        "id": "AY8DZ9BEWybE"
      },
      "id": "AY8DZ9BEWybE"
    },
    {
      "cell_type": "code",
      "execution_count": null,
      "id": "eab8dd15",
      "metadata": {
        "colab": {
          "base_uri": "https://localhost:8080/"
        },
        "id": "eab8dd15",
        "outputId": "89fde49b-6704-4aa4-faf0-f77445e1eca0"
      },
      "outputs": [
        {
          "output_type": "execute_result",
          "data": {
            "text/plain": [
              "({'overlap': 0.5020242914979757,\n",
              "  'sorensen_dice': 0.4318488529014845,\n",
              "  'jaccard': 0.4331983805668016},\n",
              " {'overlap': 0.4854368932038835,\n",
              "  'sorensen_dice': 0.3592233009708738,\n",
              "  'jaccard': 0.3592233009708738})"
            ]
          },
          "metadata": {},
          "execution_count": 21
        }
      ],
      "source": [
        "import random\n",
        "\n",
        "def evaluate_similarity_with_random_choice(data):\n",
        "    results = {\n",
        "        'overlap': [],\n",
        "        'sorensen_dice': [],\n",
        "        'jaccard': []\n",
        "    }\n",
        "\n",
        "    for item in data:\n",
        "        question_set = set(item['question_tokens'])\n",
        "        scores_overlap = []\n",
        "        scores_sorensen_dice = []\n",
        "        scores_jaccard = []\n",
        "\n",
        "        for option_tokens in item['options_tokens']:\n",
        "            option_set = set(option_tokens)\n",
        "            scores_overlap.append(overlap_coefficient(question_set, option_set))\n",
        "            scores_sorensen_dice.append(sorenson_dice(question_set, option_set))\n",
        "            scores_jaccard.append(jaccard_similarity(question_set, option_set))\n",
        "\n",
        "        # Handling ties: If the max score is found in multiple indices, randomly select one.\n",
        "        max_overlap = max(scores_overlap)\n",
        "        indices_overlap = [i for i, score in enumerate(scores_overlap) if score == max_overlap]\n",
        "        chosen_overlap = random.choice(indices_overlap) if len(indices_overlap) > 1 else indices_overlap[0]\n",
        "\n",
        "        max_sorensen_dice = max(scores_sorensen_dice)\n",
        "        indices_sorensen_dice = [i for i, score in enumerate(scores_sorensen_dice) if score == max_sorensen_dice]\n",
        "        chosen_sorensen_dice = random.choice(indices_sorensen_dice) if len(indices_sorensen_dice) > 1 else indices_sorensen_dice[0]\n",
        "\n",
        "        max_jaccard = max(scores_jaccard)\n",
        "        indices_jaccard = [i for i, score in enumerate(scores_jaccard) if score == max_jaccard]\n",
        "        chosen_jaccard = random.choice(indices_jaccard) if len(indices_jaccard) > 1 else indices_jaccard[0]\n",
        "\n",
        "        # Append the result of whether the chosen answer is correct\n",
        "        results['overlap'].append(chosen_overlap == item['correct_index'])\n",
        "        results['sorensen_dice'].append(chosen_sorensen_dice == item['correct_index'])\n",
        "        results['jaccard'].append(chosen_jaccard == item['correct_index'])\n",
        "\n",
        "    # Calculate accuracy for each measure\n",
        "    return {measure: sum(correct) / len(correct) for measure, correct in results.items()}\n",
        "\n",
        "# Set a fixed seed for random number generator for reproducibility\n",
        "random.seed(0)\n",
        "\n",
        "# Evaluate on the training set\n",
        "train_performance_with_random = evaluate_similarity_with_random_choice(train_data)\n",
        "\n",
        "# Evaluate on the validation set\n",
        "val_performance_with_random = evaluate_similarity_with_random_choice(val_data)\n",
        "\n",
        "train_performance_with_random, val_performance_with_random\n"
      ]
    },
    {
      "cell_type": "markdown",
      "source": [
        "## **Cosine similarity of TF vectors**"
      ],
      "metadata": {
        "id": "C8rYHXkFWl62"
      },
      "id": "C8rYHXkFWl62"
    },
    {
      "cell_type": "code",
      "execution_count": null,
      "id": "84bc288f",
      "metadata": {
        "colab": {
          "base_uri": "https://localhost:8080/"
        },
        "id": "84bc288f",
        "outputId": "3b0003ea-b0e2-4341-d473-6b85d5777c4c"
      },
      "outputs": [
        {
          "output_type": "execute_result",
          "data": {
            "text/plain": [
              "(0.446693657219973, 0.4563106796116505)"
            ]
          },
          "metadata": {},
          "execution_count": 18
        }
      ],
      "source": [
        "from sklearn.feature_extraction.text import CountVectorizer\n",
        "from sklearn.metrics.pairwise import cosine_similarity\n",
        "from sklearn.feature_extraction.text import TfidfVectorizer\n",
        "import warnings\n",
        "import numpy as np\n",
        "\n",
        "# Initialize the CountVectorizer with the default as q1 q2\n",
        "vectorizer = CountVectorizer(tokenizer=text_pipeline_spacy_special)\n",
        "\n",
        "def cosine_similarity_tf(data):\n",
        "    accuracies = []\n",
        "\n",
        "    for item in data:\n",
        "        # Combine the question and options into a single list for vectorization\n",
        "        texts = [item['question']] + item['options']\n",
        "\n",
        "        # Generate the term frequency vectors for the question and the options\n",
        "        tf_vectors = vectorizer.fit_transform(texts).toarray()\n",
        "\n",
        "         # Generate the TF-IDF vectors for the question and the options\n",
        "#         tf_vectors = tfidf_vectorizer.fit_transform(texts).toarray()\n",
        "\n",
        "        # Calculate cosine similarity between question and each option\n",
        "        question_vector = tf_vectors[0].reshape(1, -1)\n",
        "        option_vectors = tf_vectors[1:]\n",
        "        cos_similarities = cosine_similarity(question_vector, option_vectors).flatten()\n",
        "\n",
        "        # Pick the option with the highest cosine similarity\n",
        "        selected_option_index = np.argmax(cos_similarities)\n",
        "\n",
        "        # Check if the selected option is the correct one and calculate accuracy\n",
        "        accuracies.append(selected_option_index == item['correct_index'])\n",
        "\n",
        "    # Return the accuracy of the model\n",
        "    return np.mean(accuracies)\n",
        "\n",
        "# Calculate cosine similarity for the training and validation sets\n",
        "training_accuracy_cosine = cosine_similarity_tf(train_data)\n",
        "validation_accuracy_cosine = cosine_similarity_tf(val_data)\n",
        "warnings.filterwarnings(\"ignore\", message=\"UserWarning: The parameter 'token_pattern' will not be used since 'tokenizer' is not None'\")\n",
        "training_accuracy_cosine, validation_accuracy_cosine\n"
      ]
    },
    {
      "cell_type": "code",
      "execution_count": null,
      "id": "9a38376e",
      "metadata": {
        "colab": {
          "base_uri": "https://localhost:8080/"
        },
        "id": "9a38376e",
        "outputId": "ac7fb18e-62af-4d14-b396-5cc2257264e1"
      },
      "outputs": [
        {
          "output_type": "execute_result",
          "data": {
            "text/plain": [
              "(0.47638326585695007, 0.4854368932038835)"
            ]
          },
          "metadata": {},
          "execution_count": 20
        }
      ],
      "source": [
        "# Initialize the TfidfVectorizer with the default as q1 q2\n",
        "tfidf_vectorizer = TfidfVectorizer(tokenizer=text_pipeline_spacy_special)\n",
        "\n",
        "def cosine_similarity_tfidf(data):\n",
        "    accuracies = []\n",
        "\n",
        "    for item in data:\n",
        "        # Combine the question and options into a single list for vectorization\n",
        "        texts = [item['question']] + item['options']\n",
        "\n",
        "         # Generate the TF-IDF vectors for the question and the options\n",
        "        tf_vectors = tfidf_vectorizer.fit_transform(texts).toarray()\n",
        "\n",
        "        # Calculate cosine similarity between question and each option\n",
        "        question_vector = tf_vectors[0].reshape(1, -1)\n",
        "        option_vectors = tf_vectors[1:]\n",
        "        cos_similarities = cosine_similarity(question_vector, option_vectors).flatten()\n",
        "\n",
        "        # Pick the option with the highest cosine similarity\n",
        "        selected_option_index = np.argmax(cos_similarities)\n",
        "\n",
        "        # Check if the selected option is the correct one and calculate accuracy\n",
        "        accuracies.append(selected_option_index == item['correct_index'])\n",
        "\n",
        "    # Return the accuracy of the model\n",
        "    return np.mean(accuracies)\n",
        "\n",
        "# Calculate cosine similarity for the training and validation sets\n",
        "training_accuracy_cosine = cosine_similarity_tfidf(train_data)\n",
        "validation_accuracy_cosine = cosine_similarity_tfidf(val_data)\n",
        "\n",
        "training_accuracy_cosine, validation_accuracy_cosine"
      ]
    },
    {
      "cell_type": "markdown",
      "source": [
        "## **Cosine similarity of vectors from bert-base-uncased**"
      ],
      "metadata": {
        "id": "cTlce19uWgnh"
      },
      "id": "cTlce19uWgnh"
    },
    {
      "cell_type": "code",
      "source": [
        "from transformers import pipeline\n",
        "import torch\n",
        "import torch.nn.functional as F\n",
        "\n",
        "device = torch.device(\"cuda\" if torch.cuda.is_available() else \"cpu\")\n",
        "pipe = pipeline('feature-extraction', model=\"bert-base-uncased\",device = device)"
      ],
      "metadata": {
        "id": "y8ADlDK7z8Oq",
        "colab": {
          "base_uri": "https://localhost:8080/",
          "height": 287,
          "referenced_widgets": [
            "fbbb8b8ee3fd4a2aaea167bd6922ffd8",
            "7615178315e7403986dbf17b6d1b78a3",
            "c48b7852f0954e69a6b5c2898594ceaf",
            "791f72025781471cbd5e6568dfa63594",
            "dbcd555e3e854ab48114507ba1027bd4",
            "2d2e7081f58e47948ada3ad927a7743d",
            "212a4e1f9e784064a47d6f80d639ef37",
            "3e19b44a69ea4a41a311a60ab22da33f",
            "1ca9da906b1144d3a4324cdfd1ccda1e",
            "8d90c882d63c40dd95205926bbb7b5db",
            "56699c5f105a48c3853c105f68fdade8",
            "02254a729b364f42b8358f1c25248f20",
            "38ccf165d93f474cb8c73482fc33d50a",
            "89fc70f422264fb590f2ae64b65fdf8a",
            "2bfd1ad02c9f48c8a1b2ffb8b66db211",
            "cc20d1d50a4744b3b2debd41dc5c0f7b",
            "810d480432244f46add303ef55cfd147",
            "23070affb354474db54f66136effa328",
            "3223d853705a4635891f5f1e8416203c",
            "1437114267f44ccfbab28f6778acae89",
            "036adef2a9c64866bba513f8fbff6db2",
            "c327f704056c48dca1a69b342064b54c",
            "816b2d9a1c57493696d93f3145a92e22",
            "dd457dad92c84de6bd5481f6eb0f6f8b",
            "5a06fcb8c1424e749632b449f677568c",
            "126b44cf2fdd4f50a09718762c395f66",
            "0c4fe6fdc3d342e7953f00900e1b852d",
            "695cae3a10434ca9bf47f74728cece71",
            "a9c60055507545199241aceeb2821d70",
            "f309f9c891ae47c79bad46eea9a779f9",
            "84af51dfe08b429e9ca3903116e2f314",
            "fce54354936b416c8933356369832853",
            "9fa25184a6f545089dc923a243ef8216",
            "1833b25bc3c54fc98ff806b35f41fd16",
            "2a256b97582a41a3bc793855ab21f195",
            "97814e4ae193443499a7e2f0aa7faefc",
            "485bf5d4aa5b441a9e89833717e59a3e",
            "10b25180f778407cbf148e159525cb5e",
            "a5d3b08a75b74eeaa4c561f72fc90ee3",
            "1c15467d611c49bab1c1be0226bc1d7a",
            "0ed2bd528afd44c7b9384599d6f4259e",
            "051591cbe81242c397c938df72a30894",
            "66cb65fd960744799d0750cd454f74b1",
            "6340dfe46bd04b178cfc52aa000ec43d",
            "a8edfff9353a48c3b75a46a588c011cb",
            "100a362d6836477cb5399b52e5677315",
            "fd364caf7f384e8bb00a67f7e5ec755a",
            "f99e8da1a3384d7cbf7e63194438cb8f",
            "3b8d697f187a4f98a6c8395700419219",
            "d92d38273ccf436ebe8eee067dd80f98",
            "fa28ee18ac8a4a57a65b2ce928ebd1e7",
            "f7a974e75b2c470d9933016dbe35ce21",
            "24609c54d22640758bf81ec22d40a909",
            "2134bfedb96149f492019da207eca60f",
            "2d508792a46c4425b7c03581dfe72710"
          ]
        },
        "outputId": "6f5a98e8-4f56-487e-cd0c-bda974589e74"
      },
      "id": "y8ADlDK7z8Oq",
      "execution_count": null,
      "outputs": [
        {
          "output_type": "stream",
          "name": "stderr",
          "text": [
            "/usr/local/lib/python3.10/dist-packages/huggingface_hub/utils/_token.py:88: UserWarning: \n",
            "The secret `HF_TOKEN` does not exist in your Colab secrets.\n",
            "To authenticate with the Hugging Face Hub, create a token in your settings tab (https://huggingface.co/settings/tokens), set it as secret in your Google Colab and restart your session.\n",
            "You will be able to reuse this secret in all of your notebooks.\n",
            "Please note that authentication is recommended but still optional to access public models or datasets.\n",
            "  warnings.warn(\n"
          ]
        },
        {
          "output_type": "display_data",
          "data": {
            "text/plain": [
              "config.json:   0%|          | 0.00/570 [00:00<?, ?B/s]"
            ],
            "application/vnd.jupyter.widget-view+json": {
              "version_major": 2,
              "version_minor": 0,
              "model_id": "fbbb8b8ee3fd4a2aaea167bd6922ffd8"
            }
          },
          "metadata": {}
        },
        {
          "output_type": "display_data",
          "data": {
            "text/plain": [
              "model.safetensors:   0%|          | 0.00/440M [00:00<?, ?B/s]"
            ],
            "application/vnd.jupyter.widget-view+json": {
              "version_major": 2,
              "version_minor": 0,
              "model_id": "02254a729b364f42b8358f1c25248f20"
            }
          },
          "metadata": {}
        },
        {
          "output_type": "display_data",
          "data": {
            "text/plain": [
              "tokenizer_config.json:   0%|          | 0.00/48.0 [00:00<?, ?B/s]"
            ],
            "application/vnd.jupyter.widget-view+json": {
              "version_major": 2,
              "version_minor": 0,
              "model_id": "816b2d9a1c57493696d93f3145a92e22"
            }
          },
          "metadata": {}
        },
        {
          "output_type": "display_data",
          "data": {
            "text/plain": [
              "vocab.txt:   0%|          | 0.00/232k [00:00<?, ?B/s]"
            ],
            "application/vnd.jupyter.widget-view+json": {
              "version_major": 2,
              "version_minor": 0,
              "model_id": "1833b25bc3c54fc98ff806b35f41fd16"
            }
          },
          "metadata": {}
        },
        {
          "output_type": "display_data",
          "data": {
            "text/plain": [
              "tokenizer.json:   0%|          | 0.00/466k [00:00<?, ?B/s]"
            ],
            "application/vnd.jupyter.widget-view+json": {
              "version_major": 2,
              "version_minor": 0,
              "model_id": "a8edfff9353a48c3b75a46a588c011cb"
            }
          },
          "metadata": {}
        }
      ]
    },
    {
      "cell_type": "code",
      "source": [
        "def get_cls_vector(texts):\n",
        "    start_vectors = [ pipe(sentence, return_tensors='pt')[0,0,:] for sentence in texts ]\n",
        "\n",
        "    start_vectors = torch.stack(start_vectors)\n",
        "    return start_vectors\n",
        "\n",
        "def evaluate_bert_similarity(data):\n",
        "    accuracies = []\n",
        "\n",
        "    for item in data:\n",
        "        texts = [item['question']] + item['options']\n",
        "        vectors = get_cls_vector(texts)\n",
        "\n",
        "        # Split question vector and answer vectors\n",
        "        question_vector, answer_vectors = vectors[0], vectors[1:]\n",
        "\n",
        "        # Compute cosine similarity between question and each answer\n",
        "        similarities = F.cosine_similarity(question_vector.repeat(answer_vectors.size(0), 1), answer_vectors, dim=1)\n",
        "\n",
        "        selected_option_index = torch.argmax(similarities)\n",
        "\n",
        "        accuracies.append(selected_option_index.item() == item['correct_index'])\n",
        "\n",
        "    return torch.tensor(accuracies).float().mean().item()\n",
        "training_accuracy = evaluate_bert_similarity(train_data)\n",
        "validation_accuracy = evaluate_bert_similarity(val_data)\n",
        "\n",
        "print(f\"Training Accuracy: {training_accuracy}\")\n",
        "print(f\"Validation Accuracy: {validation_accuracy}\")"
      ],
      "metadata": {
        "id": "NkECrrt9Gceg",
        "colab": {
          "base_uri": "https://localhost:8080/"
        },
        "outputId": "e1fbbcb0-11ac-4009-bc95-ac46cf12cc65"
      },
      "id": "NkECrrt9Gceg",
      "execution_count": null,
      "outputs": [
        {
          "output_type": "stream",
          "name": "stderr",
          "text": [
            "/usr/local/lib/python3.10/dist-packages/transformers/pipelines/base.py:1157: UserWarning: You seem to be using the pipelines sequentially on GPU. In order to maximize efficiency please use a dataset\n",
            "  warnings.warn(\n"
          ]
        },
        {
          "output_type": "stream",
          "name": "stdout",
          "text": [
            "Training Accuracy: 0.1430499255657196\n",
            "Validation Accuracy: 0.20388349890708923\n"
          ]
        }
      ]
    },
    {
      "cell_type": "markdown",
      "source": [
        "## **Fine-tuning a transformer model**"
      ],
      "metadata": {
        "id": "8kayxx13WVsy"
      },
      "id": "8kayxx13WVsy"
    },
    {
      "cell_type": "code",
      "source": [
        "from datasets import Dataset\n",
        "from transformers import AutoTokenizer\n",
        "import torch\n",
        "\n",
        "# Initialize the tokenizer\n",
        "tokenizer = AutoTokenizer.from_pretrained('bert-base-uncased')\n",
        "\n",
        "# Transform the data into the question-option pairs representation\n",
        "def transform_data_to_pairs(data):\n",
        "    pairs = []\n",
        "    for item in data:\n",
        "        for index, option in enumerate(item['options']):\n",
        "            # Concatenate the question and option with \"[SEP]\"\n",
        "            text = item['question'] + \" [SEP] \" + option\n",
        "            # Tokenize the text pair\n",
        "            encoding = tokenizer(text, padding = 'max_length', truncation=True, return_tensors='pt')\n",
        "            # Add the encoded text pair and the label to the pairs list\n",
        "            pairs.append({\n",
        "                'input_ids': encoding['input_ids'].squeeze().tolist(),  # Convert tensors to lists\n",
        "                'attention_mask': encoding['attention_mask'].squeeze().tolist(),\n",
        "                'label': 1 if index == item['correct_index'] else 0\n",
        "            })\n",
        "    return pairs\n",
        "\n",
        "# Apply the transformation to the data\n",
        "transformed_data_train = transform_data_to_pairs(train_data)\n",
        "transformed_data_val = transform_data_to_pairs(val_data)\n",
        "\n",
        "# Now create a Dataset object\n",
        "train_dataset = Dataset.from_dict({\n",
        "    'input_ids': [item['input_ids'] for item in transformed_data_train],\n",
        "    'attention_mask': [item['attention_mask'] for item in transformed_data_train],\n",
        "    'labels': [item['label'] for item in transformed_data_train]\n",
        "})\n",
        "val_dataset = Dataset.from_dict({\n",
        "    'input_ids': [item['input_ids'] for item in transformed_data_val],\n",
        "    'attention_mask': [item['attention_mask'] for item in transformed_data_val],\n",
        "    'labels': [item['label'] for item in transformed_data_val]\n",
        "})\n",
        "\n",
        "# View the Dataset structure and the first example\n",
        "print(train_dataset)\n",
        "print(train_dataset[3])\n",
        "\n",
        "print(val_dataset)\n",
        "print(val_dataset[0])\n"
      ],
      "metadata": {
        "colab": {
          "base_uri": "https://localhost:8080/"
        },
        "id": "hr-wHJ9Ixl7F",
        "outputId": "363811c2-46c9-48d7-bf1a-4b6d25a74909"
      },
      "id": "hr-wHJ9Ixl7F",
      "execution_count": null,
      "outputs": [
        {
          "output_type": "stream",
          "name": "stdout",
          "text": [
            "Dataset({\n",
            "    features: ['input_ids', 'attention_mask', 'labels'],\n",
            "    num_rows: 2964\n",
            "})\n",
            "{'input_ids': [101, 2129, 2024, 10046, 10614, 2719, 1029, 102, 1037, 10046, 5430, 2003, 1037, 5430, 2719, 2306, 1996, 3256, 1997, 1037, 10046, 1012, 102, 0, 0, 0, 0, 0, 0, 0, 0, 0, 0, 0, 0, 0, 0, 0, 0, 0, 0, 0, 0, 0, 0, 0, 0, 0, 0, 0, 0, 0, 0, 0, 0, 0, 0, 0, 0, 0, 0, 0, 0, 0, 0, 0, 0, 0, 0, 0, 0, 0, 0, 0, 0, 0, 0, 0, 0, 0, 0, 0, 0, 0, 0, 0, 0, 0, 0, 0, 0, 0, 0, 0, 0, 0, 0, 0, 0, 0, 0, 0, 0, 0, 0, 0, 0, 0, 0, 0, 0, 0, 0, 0, 0, 0, 0, 0, 0, 0, 0, 0, 0, 0, 0, 0, 0, 0, 0, 0, 0, 0, 0, 0, 0, 0, 0, 0, 0, 0, 0, 0, 0, 0, 0, 0, 0, 0, 0, 0, 0, 0, 0, 0, 0, 0, 0, 0, 0, 0, 0, 0, 0, 0, 0, 0, 0, 0, 0, 0, 0, 0, 0, 0, 0, 0, 0, 0, 0, 0, 0, 0, 0, 0, 0, 0, 0, 0, 0, 0, 0, 0, 0, 0, 0, 0, 0, 0, 0, 0, 0, 0, 0, 0, 0, 0, 0, 0, 0, 0, 0, 0, 0, 0, 0, 0, 0, 0, 0, 0, 0, 0, 0, 0, 0, 0, 0, 0, 0, 0, 0, 0, 0, 0, 0, 0, 0, 0, 0, 0, 0, 0, 0, 0, 0, 0, 0, 0, 0, 0, 0, 0, 0, 0, 0, 0, 0, 0, 0, 0, 0, 0, 0, 0, 0, 0, 0, 0, 0, 0, 0, 0, 0, 0, 0, 0, 0, 0, 0, 0, 0, 0, 0, 0, 0, 0, 0, 0, 0, 0, 0, 0, 0, 0, 0, 0, 0, 0, 0, 0, 0, 0, 0, 0, 0, 0, 0, 0, 0, 0, 0, 0, 0, 0, 0, 0, 0, 0, 0, 0, 0, 0, 0, 0, 0, 0, 0, 0, 0, 0, 0, 0, 0, 0, 0, 0, 0, 0, 0, 0, 0, 0, 0, 0, 0, 0, 0, 0, 0, 0, 0, 0, 0, 0, 0, 0, 0, 0, 0, 0, 0, 0, 0, 0, 0, 0, 0, 0, 0, 0, 0, 0, 0, 0, 0, 0, 0, 0, 0, 0, 0, 0, 0, 0, 0, 0, 0, 0, 0, 0, 0, 0, 0, 0, 0, 0, 0, 0, 0, 0, 0, 0, 0, 0, 0, 0, 0, 0, 0, 0, 0, 0, 0, 0, 0, 0, 0, 0, 0, 0, 0, 0, 0, 0, 0, 0, 0, 0, 0, 0, 0, 0, 0, 0, 0, 0, 0, 0, 0, 0, 0, 0, 0, 0, 0, 0, 0, 0, 0, 0, 0, 0, 0, 0, 0, 0, 0, 0, 0, 0, 0, 0, 0, 0, 0, 0, 0, 0, 0, 0, 0, 0, 0, 0, 0, 0, 0, 0, 0, 0, 0, 0, 0, 0, 0, 0, 0, 0, 0, 0, 0, 0, 0, 0, 0, 0, 0, 0, 0, 0, 0, 0, 0, 0, 0, 0, 0, 0, 0, 0, 0, 0], 'attention_mask': [1, 1, 1, 1, 1, 1, 1, 1, 1, 1, 1, 1, 1, 1, 1, 1, 1, 1, 1, 1, 1, 1, 1, 0, 0, 0, 0, 0, 0, 0, 0, 0, 0, 0, 0, 0, 0, 0, 0, 0, 0, 0, 0, 0, 0, 0, 0, 0, 0, 0, 0, 0, 0, 0, 0, 0, 0, 0, 0, 0, 0, 0, 0, 0, 0, 0, 0, 0, 0, 0, 0, 0, 0, 0, 0, 0, 0, 0, 0, 0, 0, 0, 0, 0, 0, 0, 0, 0, 0, 0, 0, 0, 0, 0, 0, 0, 0, 0, 0, 0, 0, 0, 0, 0, 0, 0, 0, 0, 0, 0, 0, 0, 0, 0, 0, 0, 0, 0, 0, 0, 0, 0, 0, 0, 0, 0, 0, 0, 0, 0, 0, 0, 0, 0, 0, 0, 0, 0, 0, 0, 0, 0, 0, 0, 0, 0, 0, 0, 0, 0, 0, 0, 0, 0, 0, 0, 0, 0, 0, 0, 0, 0, 0, 0, 0, 0, 0, 0, 0, 0, 0, 0, 0, 0, 0, 0, 0, 0, 0, 0, 0, 0, 0, 0, 0, 0, 0, 0, 0, 0, 0, 0, 0, 0, 0, 0, 0, 0, 0, 0, 0, 0, 0, 0, 0, 0, 0, 0, 0, 0, 0, 0, 0, 0, 0, 0, 0, 0, 0, 0, 0, 0, 0, 0, 0, 0, 0, 0, 0, 0, 0, 0, 0, 0, 0, 0, 0, 0, 0, 0, 0, 0, 0, 0, 0, 0, 0, 0, 0, 0, 0, 0, 0, 0, 0, 0, 0, 0, 0, 0, 0, 0, 0, 0, 0, 0, 0, 0, 0, 0, 0, 0, 0, 0, 0, 0, 0, 0, 0, 0, 0, 0, 0, 0, 0, 0, 0, 0, 0, 0, 0, 0, 0, 0, 0, 0, 0, 0, 0, 0, 0, 0, 0, 0, 0, 0, 0, 0, 0, 0, 0, 0, 0, 0, 0, 0, 0, 0, 0, 0, 0, 0, 0, 0, 0, 0, 0, 0, 0, 0, 0, 0, 0, 0, 0, 0, 0, 0, 0, 0, 0, 0, 0, 0, 0, 0, 0, 0, 0, 0, 0, 0, 0, 0, 0, 0, 0, 0, 0, 0, 0, 0, 0, 0, 0, 0, 0, 0, 0, 0, 0, 0, 0, 0, 0, 0, 0, 0, 0, 0, 0, 0, 0, 0, 0, 0, 0, 0, 0, 0, 0, 0, 0, 0, 0, 0, 0, 0, 0, 0, 0, 0, 0, 0, 0, 0, 0, 0, 0, 0, 0, 0, 0, 0, 0, 0, 0, 0, 0, 0, 0, 0, 0, 0, 0, 0, 0, 0, 0, 0, 0, 0, 0, 0, 0, 0, 0, 0, 0, 0, 0, 0, 0, 0, 0, 0, 0, 0, 0, 0, 0, 0, 0, 0, 0, 0, 0, 0, 0, 0, 0, 0, 0, 0, 0, 0, 0, 0, 0, 0, 0, 0, 0, 0, 0, 0, 0, 0, 0, 0, 0, 0, 0, 0, 0, 0, 0, 0, 0, 0, 0, 0, 0, 0, 0, 0, 0, 0, 0, 0, 0, 0, 0, 0, 0, 0, 0, 0, 0, 0, 0, 0], 'labels': 1}\n",
            "Dataset({\n",
            "    features: ['input_ids', 'attention_mask', 'labels'],\n",
            "    num_rows: 412\n",
            "})\n",
            "{'input_ids': [101, 2129, 2502, 2003, 1038, 12458, 4007, 1999, 5395, 1010, 19067, 102, 9403, 1999, 5395, 1010, 3146, 1010, 1038, 12458, 11791, 1010, 6089, 1998, 15187, 4007, 2109, 2005, 3674, 4972, 1010, 2164, 2009, 2326, 2968, 1010, 2951, 2415, 19309, 1010, 2836, 2968, 1010, 7484, 3989, 2166, 23490, 2968, 1998, 6112, 9798, 2968, 1012, 102, 0, 0, 0, 0, 0, 0, 0, 0, 0, 0, 0, 0, 0, 0, 0, 0, 0, 0, 0, 0, 0, 0, 0, 0, 0, 0, 0, 0, 0, 0, 0, 0, 0, 0, 0, 0, 0, 0, 0, 0, 0, 0, 0, 0, 0, 0, 0, 0, 0, 0, 0, 0, 0, 0, 0, 0, 0, 0, 0, 0, 0, 0, 0, 0, 0, 0, 0, 0, 0, 0, 0, 0, 0, 0, 0, 0, 0, 0, 0, 0, 0, 0, 0, 0, 0, 0, 0, 0, 0, 0, 0, 0, 0, 0, 0, 0, 0, 0, 0, 0, 0, 0, 0, 0, 0, 0, 0, 0, 0, 0, 0, 0, 0, 0, 0, 0, 0, 0, 0, 0, 0, 0, 0, 0, 0, 0, 0, 0, 0, 0, 0, 0, 0, 0, 0, 0, 0, 0, 0, 0, 0, 0, 0, 0, 0, 0, 0, 0, 0, 0, 0, 0, 0, 0, 0, 0, 0, 0, 0, 0, 0, 0, 0, 0, 0, 0, 0, 0, 0, 0, 0, 0, 0, 0, 0, 0, 0, 0, 0, 0, 0, 0, 0, 0, 0, 0, 0, 0, 0, 0, 0, 0, 0, 0, 0, 0, 0, 0, 0, 0, 0, 0, 0, 0, 0, 0, 0, 0, 0, 0, 0, 0, 0, 0, 0, 0, 0, 0, 0, 0, 0, 0, 0, 0, 0, 0, 0, 0, 0, 0, 0, 0, 0, 0, 0, 0, 0, 0, 0, 0, 0, 0, 0, 0, 0, 0, 0, 0, 0, 0, 0, 0, 0, 0, 0, 0, 0, 0, 0, 0, 0, 0, 0, 0, 0, 0, 0, 0, 0, 0, 0, 0, 0, 0, 0, 0, 0, 0, 0, 0, 0, 0, 0, 0, 0, 0, 0, 0, 0, 0, 0, 0, 0, 0, 0, 0, 0, 0, 0, 0, 0, 0, 0, 0, 0, 0, 0, 0, 0, 0, 0, 0, 0, 0, 0, 0, 0, 0, 0, 0, 0, 0, 0, 0, 0, 0, 0, 0, 0, 0, 0, 0, 0, 0, 0, 0, 0, 0, 0, 0, 0, 0, 0, 0, 0, 0, 0, 0, 0, 0, 0, 0, 0, 0, 0, 0, 0, 0, 0, 0, 0, 0, 0, 0, 0, 0, 0, 0, 0, 0, 0, 0, 0, 0, 0, 0, 0, 0, 0, 0, 0, 0, 0, 0, 0, 0, 0, 0, 0, 0, 0, 0, 0, 0, 0, 0, 0, 0, 0, 0, 0, 0, 0, 0, 0, 0, 0, 0, 0, 0, 0, 0, 0, 0, 0, 0, 0, 0, 0, 0, 0, 0, 0, 0, 0, 0, 0, 0, 0, 0, 0, 0, 0, 0, 0, 0, 0, 0, 0, 0, 0, 0, 0, 0, 0, 0, 0, 0, 0, 0, 0, 0, 0, 0, 0, 0, 0, 0], 'attention_mask': [1, 1, 1, 1, 1, 1, 1, 1, 1, 1, 1, 1, 1, 1, 1, 1, 1, 1, 1, 1, 1, 1, 1, 1, 1, 1, 1, 1, 1, 1, 1, 1, 1, 1, 1, 1, 1, 1, 1, 1, 1, 1, 1, 1, 1, 1, 1, 1, 1, 1, 1, 1, 1, 1, 0, 0, 0, 0, 0, 0, 0, 0, 0, 0, 0, 0, 0, 0, 0, 0, 0, 0, 0, 0, 0, 0, 0, 0, 0, 0, 0, 0, 0, 0, 0, 0, 0, 0, 0, 0, 0, 0, 0, 0, 0, 0, 0, 0, 0, 0, 0, 0, 0, 0, 0, 0, 0, 0, 0, 0, 0, 0, 0, 0, 0, 0, 0, 0, 0, 0, 0, 0, 0, 0, 0, 0, 0, 0, 0, 0, 0, 0, 0, 0, 0, 0, 0, 0, 0, 0, 0, 0, 0, 0, 0, 0, 0, 0, 0, 0, 0, 0, 0, 0, 0, 0, 0, 0, 0, 0, 0, 0, 0, 0, 0, 0, 0, 0, 0, 0, 0, 0, 0, 0, 0, 0, 0, 0, 0, 0, 0, 0, 0, 0, 0, 0, 0, 0, 0, 0, 0, 0, 0, 0, 0, 0, 0, 0, 0, 0, 0, 0, 0, 0, 0, 0, 0, 0, 0, 0, 0, 0, 0, 0, 0, 0, 0, 0, 0, 0, 0, 0, 0, 0, 0, 0, 0, 0, 0, 0, 0, 0, 0, 0, 0, 0, 0, 0, 0, 0, 0, 0, 0, 0, 0, 0, 0, 0, 0, 0, 0, 0, 0, 0, 0, 0, 0, 0, 0, 0, 0, 0, 0, 0, 0, 0, 0, 0, 0, 0, 0, 0, 0, 0, 0, 0, 0, 0, 0, 0, 0, 0, 0, 0, 0, 0, 0, 0, 0, 0, 0, 0, 0, 0, 0, 0, 0, 0, 0, 0, 0, 0, 0, 0, 0, 0, 0, 0, 0, 0, 0, 0, 0, 0, 0, 0, 0, 0, 0, 0, 0, 0, 0, 0, 0, 0, 0, 0, 0, 0, 0, 0, 0, 0, 0, 0, 0, 0, 0, 0, 0, 0, 0, 0, 0, 0, 0, 0, 0, 0, 0, 0, 0, 0, 0, 0, 0, 0, 0, 0, 0, 0, 0, 0, 0, 0, 0, 0, 0, 0, 0, 0, 0, 0, 0, 0, 0, 0, 0, 0, 0, 0, 0, 0, 0, 0, 0, 0, 0, 0, 0, 0, 0, 0, 0, 0, 0, 0, 0, 0, 0, 0, 0, 0, 0, 0, 0, 0, 0, 0, 0, 0, 0, 0, 0, 0, 0, 0, 0, 0, 0, 0, 0, 0, 0, 0, 0, 0, 0, 0, 0, 0, 0, 0, 0, 0, 0, 0, 0, 0, 0, 0, 0, 0, 0, 0, 0, 0, 0, 0, 0, 0, 0, 0, 0, 0, 0, 0, 0, 0, 0, 0, 0, 0, 0, 0, 0, 0, 0, 0, 0, 0, 0, 0, 0, 0, 0, 0, 0, 0, 0, 0, 0, 0, 0, 0, 0, 0, 0, 0, 0, 0, 0, 0, 0, 0, 0, 0, 0, 0, 0, 0, 0, 0, 0, 0, 0, 0, 0, 0, 0, 0], 'labels': 0}\n"
          ]
        }
      ]
    },
    {
      "cell_type": "code",
      "source": [
        "from transformers import AutoModelForSequenceClassification\n",
        "\n",
        "model = AutoModelForSequenceClassification.from_pretrained('bert-base-uncased', num_labels=2)"
      ],
      "metadata": {
        "colab": {
          "base_uri": "https://localhost:8080/"
        },
        "id": "_075hffhQ2kz",
        "outputId": "967c128a-eadc-476a-ff21-aed2deec8124"
      },
      "id": "_075hffhQ2kz",
      "execution_count": null,
      "outputs": [
        {
          "output_type": "stream",
          "name": "stderr",
          "text": [
            "Some weights of BertForSequenceClassification were not initialized from the model checkpoint at bert-base-uncased and are newly initialized: ['classifier.bias', 'classifier.weight']\n",
            "You should probably TRAIN this model on a down-stream task to be able to use it for predictions and inference.\n"
          ]
        }
      ]
    },
    {
      "cell_type": "code",
      "source": [
        "learning_rate = 1e-5\n",
        "batch_size = 8\n",
        "epochs = 4\n",
        "weight_decay = 0"
      ],
      "metadata": {
        "id": "CA0Fq7lnWSAN"
      },
      "id": "CA0Fq7lnWSAN",
      "execution_count": null,
      "outputs": []
    },
    {
      "cell_type": "code",
      "source": [
        "from transformers import TrainingArguments, Trainer\n",
        "\n",
        "training_args = TrainingArguments(\n",
        "    output_dir=\"my_awesome_model\",\n",
        "    learning_rate=learning_rate,\n",
        "    per_device_train_batch_size=batch_size,\n",
        "    per_device_eval_batch_size=batch_size,\n",
        "    num_train_epochs=epochs,\n",
        "    weight_decay=weight_decay,\n",
        "    evaluation_strategy=\"epoch\"\n",
        ")\n"
      ],
      "metadata": {
        "id": "AYv0_IqYWJCW"
      },
      "id": "AYv0_IqYWJCW",
      "execution_count": null,
      "outputs": []
    },
    {
      "cell_type": "code",
      "source": [
        "from sklearn.metrics import accuracy_score, precision_recall_fscore_support\n",
        "def compute_metrics(pred):\n",
        "    labels = pred.label_ids\n",
        "    preds = pred.predictions.argmax(-1)\n",
        "    precision, recall, f1, _ = precision_recall_fscore_support(labels, preds, average='binary')\n",
        "    acc = accuracy_score(labels, preds)\n",
        "    return {\n",
        "        'accuracy': acc,\n",
        "        'f1': f1,\n",
        "        'precision': precision,\n",
        "        'recall': recall\n",
        "    }\n"
      ],
      "metadata": {
        "id": "PXht3QUG8HPt"
      },
      "id": "PXht3QUG8HPt",
      "execution_count": null,
      "outputs": []
    },
    {
      "cell_type": "code",
      "source": [
        "train_dataset.shape,val_dataset.shape"
      ],
      "metadata": {
        "colab": {
          "base_uri": "https://localhost:8080/"
        },
        "id": "bXLfN2HYAa3I",
        "outputId": "311eb03e-c99d-4cfd-a251-6fd3733f965c"
      },
      "id": "bXLfN2HYAa3I",
      "execution_count": null,
      "outputs": [
        {
          "output_type": "execute_result",
          "data": {
            "text/plain": [
              "((2964, 3), (412, 3))"
            ]
          },
          "metadata": {},
          "execution_count": 31
        }
      ]
    },
    {
      "cell_type": "code",
      "source": [
        "trainer = Trainer(\n",
        "    model=model,\n",
        "    args=training_args,\n",
        "    train_dataset=train_dataset,\n",
        "    eval_dataset=val_dataset,\n",
        "    compute_metrics=compute_metrics\n",
        ")\n",
        "\n",
        "trainer.train()\n"
      ],
      "metadata": {
        "id": "5horOlMcopYw",
        "colab": {
          "base_uri": "https://localhost:8080/",
          "height": 219
        },
        "outputId": "9028feef-97d1-4a07-c84d-9ea5f1cda457"
      },
      "id": "5horOlMcopYw",
      "execution_count": null,
      "outputs": [
        {
          "output_type": "display_data",
          "data": {
            "text/plain": [
              "<IPython.core.display.HTML object>"
            ],
            "text/html": [
              "\n",
              "    <div>\n",
              "      \n",
              "      <progress value='1484' max='1484' style='width:300px; height:20px; vertical-align: middle;'></progress>\n",
              "      [1484/1484 19:23, Epoch 4/4]\n",
              "    </div>\n",
              "    <table border=\"1\" class=\"dataframe\">\n",
              "  <thead>\n",
              " <tr style=\"text-align: left;\">\n",
              "      <th>Epoch</th>\n",
              "      <th>Training Loss</th>\n",
              "      <th>Validation Loss</th>\n",
              "      <th>Accuracy</th>\n",
              "      <th>F1</th>\n",
              "      <th>Precision</th>\n",
              "      <th>Recall</th>\n",
              "    </tr>\n",
              "  </thead>\n",
              "  <tbody>\n",
              "    <tr>\n",
              "      <td>1</td>\n",
              "      <td>No log</td>\n",
              "      <td>0.454074</td>\n",
              "      <td>0.820388</td>\n",
              "      <td>0.569767</td>\n",
              "      <td>0.710145</td>\n",
              "      <td>0.475728</td>\n",
              "    </tr>\n",
              "    <tr>\n",
              "      <td>2</td>\n",
              "      <td>0.510700</td>\n",
              "      <td>0.454759</td>\n",
              "      <td>0.839806</td>\n",
              "      <td>0.602410</td>\n",
              "      <td>0.793651</td>\n",
              "      <td>0.485437</td>\n",
              "    </tr>\n",
              "    <tr>\n",
              "      <td>3</td>\n",
              "      <td>0.411600</td>\n",
              "      <td>0.476351</td>\n",
              "      <td>0.791262</td>\n",
              "      <td>0.590476</td>\n",
              "      <td>0.579439</td>\n",
              "      <td>0.601942</td>\n",
              "    </tr>\n",
              "    <tr>\n",
              "      <td>4</td>\n",
              "      <td>0.411600</td>\n",
              "      <td>0.501674</td>\n",
              "      <td>0.803398</td>\n",
              "      <td>0.597015</td>\n",
              "      <td>0.612245</td>\n",
              "      <td>0.582524</td>\n",
              "    </tr>\n",
              "  </tbody>\n",
              "</table><p>"
            ]
          },
          "metadata": {}
        },
        {
          "output_type": "execute_result",
          "data": {
            "text/plain": [
              "TrainOutput(global_step=1484, training_loss=0.41330760122952115, metrics={'train_runtime': 1164.9384, 'train_samples_per_second': 10.177, 'train_steps_per_second': 1.274, 'total_flos': 3119444672348160.0, 'train_loss': 0.41330760122952115, 'epoch': 4.0})"
            ]
          },
          "metadata": {},
          "execution_count": 32
        }
      ]
    },
    {
      "cell_type": "code",
      "source": [
        "def acc(pred,data):\n",
        "    reshaped_logits = pred.reshape(-1, 4, 2)\n",
        "    pred_indices = reshaped_logits[:, :, 1].argmax(axis=1)\n",
        "    true_indices = []\n",
        "    for i in data:\n",
        "        true_indices.append(i['correct_index'])\n",
        "    true_indices = np.array(true_indices)\n",
        "    count = 0\n",
        "    for i in range(len(true_indices)):\n",
        "        if pred_indices[i] == true_indices[i]:\n",
        "            count += 1\n",
        "    return count/len(true_indices)"
      ],
      "metadata": {
        "id": "mQi6z7oXMzq-"
      },
      "id": "mQi6z7oXMzq-",
      "execution_count": null,
      "outputs": []
    },
    {
      "cell_type": "code",
      "source": [
        "predictions, label_ids, metrics = trainer.predict(train_dataset)"
      ],
      "metadata": {
        "id": "FXk-iR0L71vb",
        "colab": {
          "base_uri": "https://localhost:8080/",
          "height": 17
        },
        "outputId": "cfed44f2-05a3-4081-a919-dd8cc702a417"
      },
      "id": "FXk-iR0L71vb",
      "execution_count": null,
      "outputs": [
        {
          "output_type": "display_data",
          "data": {
            "text/plain": [
              "<IPython.core.display.HTML object>"
            ],
            "text/html": []
          },
          "metadata": {}
        }
      ]
    },
    {
      "cell_type": "code",
      "source": [
        "metrics"
      ],
      "metadata": {
        "id": "GuKOaVzn737o",
        "colab": {
          "base_uri": "https://localhost:8080/"
        },
        "outputId": "1627ec5f-7a87-425d-a95d-5580de3d39d1"
      },
      "id": "GuKOaVzn737o",
      "execution_count": null,
      "outputs": [
        {
          "output_type": "execute_result",
          "data": {
            "text/plain": [
              "{'test_loss': 0.2582426965236664,\n",
              " 'test_accuracy': 0.8984480431848852,\n",
              " 'test_f1': 0.8064308681672026,\n",
              " 'test_precision': 0.7702702702702703,\n",
              " 'test_recall': 0.8461538461538461,\n",
              " 'test_runtime': 96.1027,\n",
              " 'test_samples_per_second': 30.842,\n",
              " 'test_steps_per_second': 3.86}"
            ]
          },
          "metadata": {},
          "execution_count": 35
        }
      ]
    },
    {
      "cell_type": "code",
      "source": [
        "print(\"Question accuracy in train data is \",acc(predictions, train_data))"
      ],
      "metadata": {
        "colab": {
          "base_uri": "https://localhost:8080/"
        },
        "id": "ockjc_RZM5-N",
        "outputId": "c72e0d06-b502-4216-e420-b3e03ffe38ee"
      },
      "id": "ockjc_RZM5-N",
      "execution_count": null,
      "outputs": [
        {
          "output_type": "stream",
          "name": "stdout",
          "text": [
            "Question accuracy in train data is  0.844804318488529\n"
          ]
        }
      ]
    },
    {
      "cell_type": "code",
      "source": [
        "predictions, label_ids, metrics = trainer.predict(val_dataset)"
      ],
      "metadata": {
        "id": "umkNNZ2_75Ay",
        "colab": {
          "base_uri": "https://localhost:8080/",
          "height": 17
        },
        "outputId": "00ffa2b4-10be-40af-d6ea-48a973a5a307"
      },
      "id": "umkNNZ2_75Ay",
      "execution_count": null,
      "outputs": [
        {
          "output_type": "display_data",
          "data": {
            "text/plain": [
              "<IPython.core.display.HTML object>"
            ],
            "text/html": []
          },
          "metadata": {}
        }
      ]
    },
    {
      "cell_type": "code",
      "source": [
        "metrics"
      ],
      "metadata": {
        "id": "STcpsA3I7_BN",
        "colab": {
          "base_uri": "https://localhost:8080/"
        },
        "outputId": "886e00db-30c9-4402-892b-3b6f6c341915"
      },
      "id": "STcpsA3I7_BN",
      "execution_count": null,
      "outputs": [
        {
          "output_type": "execute_result",
          "data": {
            "text/plain": [
              "{'test_loss': 0.5016736388206482,\n",
              " 'test_accuracy': 0.8033980582524272,\n",
              " 'test_f1': 0.5970149253731343,\n",
              " 'test_precision': 0.6122448979591837,\n",
              " 'test_recall': 0.5825242718446602,\n",
              " 'test_runtime': 13.3352,\n",
              " 'test_samples_per_second': 30.896,\n",
              " 'test_steps_per_second': 3.899}"
            ]
          },
          "metadata": {},
          "execution_count": 38
        }
      ]
    },
    {
      "cell_type": "code",
      "source": [
        "print(\"Question accuracy in val data is \",acc(predictions, val_data))"
      ],
      "metadata": {
        "colab": {
          "base_uri": "https://localhost:8080/"
        },
        "id": "LnL_9vdvM6kw",
        "outputId": "88eddd6f-d104-4c29-c626-74b98ab34f5a"
      },
      "id": "LnL_9vdvM6kw",
      "execution_count": null,
      "outputs": [
        {
          "output_type": "stream",
          "name": "stdout",
          "text": [
            "Question accuracy in val data is  0.6213592233009708\n"
          ]
        }
      ]
    },
    {
      "cell_type": "markdown",
      "source": [
        "## **Test set performance**"
      ],
      "metadata": {
        "id": "M1J9pIFpWM5y"
      },
      "id": "M1J9pIFpWM5y"
    },
    {
      "cell_type": "code",
      "source": [
        "transformed_data_test =  transform_data_to_pairs(test_data)\n",
        "test_dataset = Dataset.from_dict({\n",
        "    'input_ids': [item['input_ids'] for item in transformed_data_test],\n",
        "    'attention_mask': [item['attention_mask'] for item in transformed_data_test],\n",
        "    'labels': [item['label'] for item in transformed_data_test]\n",
        "})"
      ],
      "metadata": {
        "id": "-7BZipQd79vH"
      },
      "id": "-7BZipQd79vH",
      "execution_count": null,
      "outputs": []
    },
    {
      "cell_type": "code",
      "source": [
        "predictions, label_ids, metrics = trainer.predict(test_dataset)"
      ],
      "metadata": {
        "id": "icn9GEKg8Bim",
        "colab": {
          "base_uri": "https://localhost:8080/",
          "height": 17
        },
        "outputId": "3472da55-cf47-4df6-c075-b1f331cc0d3d"
      },
      "id": "icn9GEKg8Bim",
      "execution_count": null,
      "outputs": [
        {
          "output_type": "display_data",
          "data": {
            "text/plain": [
              "<IPython.core.display.HTML object>"
            ],
            "text/html": []
          },
          "metadata": {}
        }
      ]
    },
    {
      "cell_type": "code",
      "source": [
        "metrics"
      ],
      "metadata": {
        "id": "9c8Qs4ZL8EwJ",
        "colab": {
          "base_uri": "https://localhost:8080/"
        },
        "outputId": "e5768b0c-46cd-4cee-a702-3366cb330112"
      },
      "id": "9c8Qs4ZL8EwJ",
      "execution_count": null,
      "outputs": [
        {
          "output_type": "execute_result",
          "data": {
            "text/plain": [
              "{'test_loss': 0.5231308341026306,\n",
              " 'test_accuracy': 0.7957920792079208,\n",
              " 'test_f1': 0.60431654676259,\n",
              " 'test_precision': 0.586046511627907,\n",
              " 'test_recall': 0.6237623762376238,\n",
              " 'test_runtime': 26.2741,\n",
              " 'test_samples_per_second': 30.753,\n",
              " 'test_steps_per_second': 3.844}"
            ]
          },
          "metadata": {},
          "execution_count": 42
        }
      ]
    },
    {
      "cell_type": "code",
      "source": [
        "print(\"Question accuracy in test data is \",acc(predictions, test_data))"
      ],
      "metadata": {
        "colab": {
          "base_uri": "https://localhost:8080/"
        },
        "id": "ZRf5nPxPM88T",
        "outputId": "c1c38769-d15a-4861-bf8e-d0b51c3193bd"
      },
      "id": "ZRf5nPxPM88T",
      "execution_count": null,
      "outputs": [
        {
          "output_type": "stream",
          "name": "stdout",
          "text": [
            "Question accuracy in val data is  0.6336633663366337\n"
          ]
        }
      ]
    }
  ],
  "metadata": {
    "kernelspec": {
      "display_name": "Python 3",
      "name": "python3"
    },
    "language_info": {
      "codemirror_mode": {
        "name": "ipython",
        "version": 3
      },
      "file_extension": ".py",
      "mimetype": "text/x-python",
      "name": "python",
      "nbconvert_exporter": "python",
      "pygments_lexer": "ipython3",
      "version": "3.7.5"
    },
    "colab": {
      "provenance": [],
      "gpuType": "T4"
    },
    "widgets": {
      "application/vnd.jupyter.widget-state+json": {
        "fbbb8b8ee3fd4a2aaea167bd6922ffd8": {
          "model_module": "@jupyter-widgets/controls",
          "model_name": "HBoxModel",
          "model_module_version": "1.5.0",
          "state": {
            "_dom_classes": [],
            "_model_module": "@jupyter-widgets/controls",
            "_model_module_version": "1.5.0",
            "_model_name": "HBoxModel",
            "_view_count": null,
            "_view_module": "@jupyter-widgets/controls",
            "_view_module_version": "1.5.0",
            "_view_name": "HBoxView",
            "box_style": "",
            "children": [
              "IPY_MODEL_7615178315e7403986dbf17b6d1b78a3",
              "IPY_MODEL_c48b7852f0954e69a6b5c2898594ceaf",
              "IPY_MODEL_791f72025781471cbd5e6568dfa63594"
            ],
            "layout": "IPY_MODEL_dbcd555e3e854ab48114507ba1027bd4"
          }
        },
        "7615178315e7403986dbf17b6d1b78a3": {
          "model_module": "@jupyter-widgets/controls",
          "model_name": "HTMLModel",
          "model_module_version": "1.5.0",
          "state": {
            "_dom_classes": [],
            "_model_module": "@jupyter-widgets/controls",
            "_model_module_version": "1.5.0",
            "_model_name": "HTMLModel",
            "_view_count": null,
            "_view_module": "@jupyter-widgets/controls",
            "_view_module_version": "1.5.0",
            "_view_name": "HTMLView",
            "description": "",
            "description_tooltip": null,
            "layout": "IPY_MODEL_2d2e7081f58e47948ada3ad927a7743d",
            "placeholder": "​",
            "style": "IPY_MODEL_212a4e1f9e784064a47d6f80d639ef37",
            "value": "config.json: 100%"
          }
        },
        "c48b7852f0954e69a6b5c2898594ceaf": {
          "model_module": "@jupyter-widgets/controls",
          "model_name": "FloatProgressModel",
          "model_module_version": "1.5.0",
          "state": {
            "_dom_classes": [],
            "_model_module": "@jupyter-widgets/controls",
            "_model_module_version": "1.5.0",
            "_model_name": "FloatProgressModel",
            "_view_count": null,
            "_view_module": "@jupyter-widgets/controls",
            "_view_module_version": "1.5.0",
            "_view_name": "ProgressView",
            "bar_style": "success",
            "description": "",
            "description_tooltip": null,
            "layout": "IPY_MODEL_3e19b44a69ea4a41a311a60ab22da33f",
            "max": 570,
            "min": 0,
            "orientation": "horizontal",
            "style": "IPY_MODEL_1ca9da906b1144d3a4324cdfd1ccda1e",
            "value": 570
          }
        },
        "791f72025781471cbd5e6568dfa63594": {
          "model_module": "@jupyter-widgets/controls",
          "model_name": "HTMLModel",
          "model_module_version": "1.5.0",
          "state": {
            "_dom_classes": [],
            "_model_module": "@jupyter-widgets/controls",
            "_model_module_version": "1.5.0",
            "_model_name": "HTMLModel",
            "_view_count": null,
            "_view_module": "@jupyter-widgets/controls",
            "_view_module_version": "1.5.0",
            "_view_name": "HTMLView",
            "description": "",
            "description_tooltip": null,
            "layout": "IPY_MODEL_8d90c882d63c40dd95205926bbb7b5db",
            "placeholder": "​",
            "style": "IPY_MODEL_56699c5f105a48c3853c105f68fdade8",
            "value": " 570/570 [00:00&lt;00:00, 30.8kB/s]"
          }
        },
        "dbcd555e3e854ab48114507ba1027bd4": {
          "model_module": "@jupyter-widgets/base",
          "model_name": "LayoutModel",
          "model_module_version": "1.2.0",
          "state": {
            "_model_module": "@jupyter-widgets/base",
            "_model_module_version": "1.2.0",
            "_model_name": "LayoutModel",
            "_view_count": null,
            "_view_module": "@jupyter-widgets/base",
            "_view_module_version": "1.2.0",
            "_view_name": "LayoutView",
            "align_content": null,
            "align_items": null,
            "align_self": null,
            "border": null,
            "bottom": null,
            "display": null,
            "flex": null,
            "flex_flow": null,
            "grid_area": null,
            "grid_auto_columns": null,
            "grid_auto_flow": null,
            "grid_auto_rows": null,
            "grid_column": null,
            "grid_gap": null,
            "grid_row": null,
            "grid_template_areas": null,
            "grid_template_columns": null,
            "grid_template_rows": null,
            "height": null,
            "justify_content": null,
            "justify_items": null,
            "left": null,
            "margin": null,
            "max_height": null,
            "max_width": null,
            "min_height": null,
            "min_width": null,
            "object_fit": null,
            "object_position": null,
            "order": null,
            "overflow": null,
            "overflow_x": null,
            "overflow_y": null,
            "padding": null,
            "right": null,
            "top": null,
            "visibility": null,
            "width": null
          }
        },
        "2d2e7081f58e47948ada3ad927a7743d": {
          "model_module": "@jupyter-widgets/base",
          "model_name": "LayoutModel",
          "model_module_version": "1.2.0",
          "state": {
            "_model_module": "@jupyter-widgets/base",
            "_model_module_version": "1.2.0",
            "_model_name": "LayoutModel",
            "_view_count": null,
            "_view_module": "@jupyter-widgets/base",
            "_view_module_version": "1.2.0",
            "_view_name": "LayoutView",
            "align_content": null,
            "align_items": null,
            "align_self": null,
            "border": null,
            "bottom": null,
            "display": null,
            "flex": null,
            "flex_flow": null,
            "grid_area": null,
            "grid_auto_columns": null,
            "grid_auto_flow": null,
            "grid_auto_rows": null,
            "grid_column": null,
            "grid_gap": null,
            "grid_row": null,
            "grid_template_areas": null,
            "grid_template_columns": null,
            "grid_template_rows": null,
            "height": null,
            "justify_content": null,
            "justify_items": null,
            "left": null,
            "margin": null,
            "max_height": null,
            "max_width": null,
            "min_height": null,
            "min_width": null,
            "object_fit": null,
            "object_position": null,
            "order": null,
            "overflow": null,
            "overflow_x": null,
            "overflow_y": null,
            "padding": null,
            "right": null,
            "top": null,
            "visibility": null,
            "width": null
          }
        },
        "212a4e1f9e784064a47d6f80d639ef37": {
          "model_module": "@jupyter-widgets/controls",
          "model_name": "DescriptionStyleModel",
          "model_module_version": "1.5.0",
          "state": {
            "_model_module": "@jupyter-widgets/controls",
            "_model_module_version": "1.5.0",
            "_model_name": "DescriptionStyleModel",
            "_view_count": null,
            "_view_module": "@jupyter-widgets/base",
            "_view_module_version": "1.2.0",
            "_view_name": "StyleView",
            "description_width": ""
          }
        },
        "3e19b44a69ea4a41a311a60ab22da33f": {
          "model_module": "@jupyter-widgets/base",
          "model_name": "LayoutModel",
          "model_module_version": "1.2.0",
          "state": {
            "_model_module": "@jupyter-widgets/base",
            "_model_module_version": "1.2.0",
            "_model_name": "LayoutModel",
            "_view_count": null,
            "_view_module": "@jupyter-widgets/base",
            "_view_module_version": "1.2.0",
            "_view_name": "LayoutView",
            "align_content": null,
            "align_items": null,
            "align_self": null,
            "border": null,
            "bottom": null,
            "display": null,
            "flex": null,
            "flex_flow": null,
            "grid_area": null,
            "grid_auto_columns": null,
            "grid_auto_flow": null,
            "grid_auto_rows": null,
            "grid_column": null,
            "grid_gap": null,
            "grid_row": null,
            "grid_template_areas": null,
            "grid_template_columns": null,
            "grid_template_rows": null,
            "height": null,
            "justify_content": null,
            "justify_items": null,
            "left": null,
            "margin": null,
            "max_height": null,
            "max_width": null,
            "min_height": null,
            "min_width": null,
            "object_fit": null,
            "object_position": null,
            "order": null,
            "overflow": null,
            "overflow_x": null,
            "overflow_y": null,
            "padding": null,
            "right": null,
            "top": null,
            "visibility": null,
            "width": null
          }
        },
        "1ca9da906b1144d3a4324cdfd1ccda1e": {
          "model_module": "@jupyter-widgets/controls",
          "model_name": "ProgressStyleModel",
          "model_module_version": "1.5.0",
          "state": {
            "_model_module": "@jupyter-widgets/controls",
            "_model_module_version": "1.5.0",
            "_model_name": "ProgressStyleModel",
            "_view_count": null,
            "_view_module": "@jupyter-widgets/base",
            "_view_module_version": "1.2.0",
            "_view_name": "StyleView",
            "bar_color": null,
            "description_width": ""
          }
        },
        "8d90c882d63c40dd95205926bbb7b5db": {
          "model_module": "@jupyter-widgets/base",
          "model_name": "LayoutModel",
          "model_module_version": "1.2.0",
          "state": {
            "_model_module": "@jupyter-widgets/base",
            "_model_module_version": "1.2.0",
            "_model_name": "LayoutModel",
            "_view_count": null,
            "_view_module": "@jupyter-widgets/base",
            "_view_module_version": "1.2.0",
            "_view_name": "LayoutView",
            "align_content": null,
            "align_items": null,
            "align_self": null,
            "border": null,
            "bottom": null,
            "display": null,
            "flex": null,
            "flex_flow": null,
            "grid_area": null,
            "grid_auto_columns": null,
            "grid_auto_flow": null,
            "grid_auto_rows": null,
            "grid_column": null,
            "grid_gap": null,
            "grid_row": null,
            "grid_template_areas": null,
            "grid_template_columns": null,
            "grid_template_rows": null,
            "height": null,
            "justify_content": null,
            "justify_items": null,
            "left": null,
            "margin": null,
            "max_height": null,
            "max_width": null,
            "min_height": null,
            "min_width": null,
            "object_fit": null,
            "object_position": null,
            "order": null,
            "overflow": null,
            "overflow_x": null,
            "overflow_y": null,
            "padding": null,
            "right": null,
            "top": null,
            "visibility": null,
            "width": null
          }
        },
        "56699c5f105a48c3853c105f68fdade8": {
          "model_module": "@jupyter-widgets/controls",
          "model_name": "DescriptionStyleModel",
          "model_module_version": "1.5.0",
          "state": {
            "_model_module": "@jupyter-widgets/controls",
            "_model_module_version": "1.5.0",
            "_model_name": "DescriptionStyleModel",
            "_view_count": null,
            "_view_module": "@jupyter-widgets/base",
            "_view_module_version": "1.2.0",
            "_view_name": "StyleView",
            "description_width": ""
          }
        },
        "02254a729b364f42b8358f1c25248f20": {
          "model_module": "@jupyter-widgets/controls",
          "model_name": "HBoxModel",
          "model_module_version": "1.5.0",
          "state": {
            "_dom_classes": [],
            "_model_module": "@jupyter-widgets/controls",
            "_model_module_version": "1.5.0",
            "_model_name": "HBoxModel",
            "_view_count": null,
            "_view_module": "@jupyter-widgets/controls",
            "_view_module_version": "1.5.0",
            "_view_name": "HBoxView",
            "box_style": "",
            "children": [
              "IPY_MODEL_38ccf165d93f474cb8c73482fc33d50a",
              "IPY_MODEL_89fc70f422264fb590f2ae64b65fdf8a",
              "IPY_MODEL_2bfd1ad02c9f48c8a1b2ffb8b66db211"
            ],
            "layout": "IPY_MODEL_cc20d1d50a4744b3b2debd41dc5c0f7b"
          }
        },
        "38ccf165d93f474cb8c73482fc33d50a": {
          "model_module": "@jupyter-widgets/controls",
          "model_name": "HTMLModel",
          "model_module_version": "1.5.0",
          "state": {
            "_dom_classes": [],
            "_model_module": "@jupyter-widgets/controls",
            "_model_module_version": "1.5.0",
            "_model_name": "HTMLModel",
            "_view_count": null,
            "_view_module": "@jupyter-widgets/controls",
            "_view_module_version": "1.5.0",
            "_view_name": "HTMLView",
            "description": "",
            "description_tooltip": null,
            "layout": "IPY_MODEL_810d480432244f46add303ef55cfd147",
            "placeholder": "​",
            "style": "IPY_MODEL_23070affb354474db54f66136effa328",
            "value": "model.safetensors: 100%"
          }
        },
        "89fc70f422264fb590f2ae64b65fdf8a": {
          "model_module": "@jupyter-widgets/controls",
          "model_name": "FloatProgressModel",
          "model_module_version": "1.5.0",
          "state": {
            "_dom_classes": [],
            "_model_module": "@jupyter-widgets/controls",
            "_model_module_version": "1.5.0",
            "_model_name": "FloatProgressModel",
            "_view_count": null,
            "_view_module": "@jupyter-widgets/controls",
            "_view_module_version": "1.5.0",
            "_view_name": "ProgressView",
            "bar_style": "success",
            "description": "",
            "description_tooltip": null,
            "layout": "IPY_MODEL_3223d853705a4635891f5f1e8416203c",
            "max": 440449768,
            "min": 0,
            "orientation": "horizontal",
            "style": "IPY_MODEL_1437114267f44ccfbab28f6778acae89",
            "value": 440449768
          }
        },
        "2bfd1ad02c9f48c8a1b2ffb8b66db211": {
          "model_module": "@jupyter-widgets/controls",
          "model_name": "HTMLModel",
          "model_module_version": "1.5.0",
          "state": {
            "_dom_classes": [],
            "_model_module": "@jupyter-widgets/controls",
            "_model_module_version": "1.5.0",
            "_model_name": "HTMLModel",
            "_view_count": null,
            "_view_module": "@jupyter-widgets/controls",
            "_view_module_version": "1.5.0",
            "_view_name": "HTMLView",
            "description": "",
            "description_tooltip": null,
            "layout": "IPY_MODEL_036adef2a9c64866bba513f8fbff6db2",
            "placeholder": "​",
            "style": "IPY_MODEL_c327f704056c48dca1a69b342064b54c",
            "value": " 440M/440M [00:02&lt;00:00, 159MB/s]"
          }
        },
        "cc20d1d50a4744b3b2debd41dc5c0f7b": {
          "model_module": "@jupyter-widgets/base",
          "model_name": "LayoutModel",
          "model_module_version": "1.2.0",
          "state": {
            "_model_module": "@jupyter-widgets/base",
            "_model_module_version": "1.2.0",
            "_model_name": "LayoutModel",
            "_view_count": null,
            "_view_module": "@jupyter-widgets/base",
            "_view_module_version": "1.2.0",
            "_view_name": "LayoutView",
            "align_content": null,
            "align_items": null,
            "align_self": null,
            "border": null,
            "bottom": null,
            "display": null,
            "flex": null,
            "flex_flow": null,
            "grid_area": null,
            "grid_auto_columns": null,
            "grid_auto_flow": null,
            "grid_auto_rows": null,
            "grid_column": null,
            "grid_gap": null,
            "grid_row": null,
            "grid_template_areas": null,
            "grid_template_columns": null,
            "grid_template_rows": null,
            "height": null,
            "justify_content": null,
            "justify_items": null,
            "left": null,
            "margin": null,
            "max_height": null,
            "max_width": null,
            "min_height": null,
            "min_width": null,
            "object_fit": null,
            "object_position": null,
            "order": null,
            "overflow": null,
            "overflow_x": null,
            "overflow_y": null,
            "padding": null,
            "right": null,
            "top": null,
            "visibility": null,
            "width": null
          }
        },
        "810d480432244f46add303ef55cfd147": {
          "model_module": "@jupyter-widgets/base",
          "model_name": "LayoutModel",
          "model_module_version": "1.2.0",
          "state": {
            "_model_module": "@jupyter-widgets/base",
            "_model_module_version": "1.2.0",
            "_model_name": "LayoutModel",
            "_view_count": null,
            "_view_module": "@jupyter-widgets/base",
            "_view_module_version": "1.2.0",
            "_view_name": "LayoutView",
            "align_content": null,
            "align_items": null,
            "align_self": null,
            "border": null,
            "bottom": null,
            "display": null,
            "flex": null,
            "flex_flow": null,
            "grid_area": null,
            "grid_auto_columns": null,
            "grid_auto_flow": null,
            "grid_auto_rows": null,
            "grid_column": null,
            "grid_gap": null,
            "grid_row": null,
            "grid_template_areas": null,
            "grid_template_columns": null,
            "grid_template_rows": null,
            "height": null,
            "justify_content": null,
            "justify_items": null,
            "left": null,
            "margin": null,
            "max_height": null,
            "max_width": null,
            "min_height": null,
            "min_width": null,
            "object_fit": null,
            "object_position": null,
            "order": null,
            "overflow": null,
            "overflow_x": null,
            "overflow_y": null,
            "padding": null,
            "right": null,
            "top": null,
            "visibility": null,
            "width": null
          }
        },
        "23070affb354474db54f66136effa328": {
          "model_module": "@jupyter-widgets/controls",
          "model_name": "DescriptionStyleModel",
          "model_module_version": "1.5.0",
          "state": {
            "_model_module": "@jupyter-widgets/controls",
            "_model_module_version": "1.5.0",
            "_model_name": "DescriptionStyleModel",
            "_view_count": null,
            "_view_module": "@jupyter-widgets/base",
            "_view_module_version": "1.2.0",
            "_view_name": "StyleView",
            "description_width": ""
          }
        },
        "3223d853705a4635891f5f1e8416203c": {
          "model_module": "@jupyter-widgets/base",
          "model_name": "LayoutModel",
          "model_module_version": "1.2.0",
          "state": {
            "_model_module": "@jupyter-widgets/base",
            "_model_module_version": "1.2.0",
            "_model_name": "LayoutModel",
            "_view_count": null,
            "_view_module": "@jupyter-widgets/base",
            "_view_module_version": "1.2.0",
            "_view_name": "LayoutView",
            "align_content": null,
            "align_items": null,
            "align_self": null,
            "border": null,
            "bottom": null,
            "display": null,
            "flex": null,
            "flex_flow": null,
            "grid_area": null,
            "grid_auto_columns": null,
            "grid_auto_flow": null,
            "grid_auto_rows": null,
            "grid_column": null,
            "grid_gap": null,
            "grid_row": null,
            "grid_template_areas": null,
            "grid_template_columns": null,
            "grid_template_rows": null,
            "height": null,
            "justify_content": null,
            "justify_items": null,
            "left": null,
            "margin": null,
            "max_height": null,
            "max_width": null,
            "min_height": null,
            "min_width": null,
            "object_fit": null,
            "object_position": null,
            "order": null,
            "overflow": null,
            "overflow_x": null,
            "overflow_y": null,
            "padding": null,
            "right": null,
            "top": null,
            "visibility": null,
            "width": null
          }
        },
        "1437114267f44ccfbab28f6778acae89": {
          "model_module": "@jupyter-widgets/controls",
          "model_name": "ProgressStyleModel",
          "model_module_version": "1.5.0",
          "state": {
            "_model_module": "@jupyter-widgets/controls",
            "_model_module_version": "1.5.0",
            "_model_name": "ProgressStyleModel",
            "_view_count": null,
            "_view_module": "@jupyter-widgets/base",
            "_view_module_version": "1.2.0",
            "_view_name": "StyleView",
            "bar_color": null,
            "description_width": ""
          }
        },
        "036adef2a9c64866bba513f8fbff6db2": {
          "model_module": "@jupyter-widgets/base",
          "model_name": "LayoutModel",
          "model_module_version": "1.2.0",
          "state": {
            "_model_module": "@jupyter-widgets/base",
            "_model_module_version": "1.2.0",
            "_model_name": "LayoutModel",
            "_view_count": null,
            "_view_module": "@jupyter-widgets/base",
            "_view_module_version": "1.2.0",
            "_view_name": "LayoutView",
            "align_content": null,
            "align_items": null,
            "align_self": null,
            "border": null,
            "bottom": null,
            "display": null,
            "flex": null,
            "flex_flow": null,
            "grid_area": null,
            "grid_auto_columns": null,
            "grid_auto_flow": null,
            "grid_auto_rows": null,
            "grid_column": null,
            "grid_gap": null,
            "grid_row": null,
            "grid_template_areas": null,
            "grid_template_columns": null,
            "grid_template_rows": null,
            "height": null,
            "justify_content": null,
            "justify_items": null,
            "left": null,
            "margin": null,
            "max_height": null,
            "max_width": null,
            "min_height": null,
            "min_width": null,
            "object_fit": null,
            "object_position": null,
            "order": null,
            "overflow": null,
            "overflow_x": null,
            "overflow_y": null,
            "padding": null,
            "right": null,
            "top": null,
            "visibility": null,
            "width": null
          }
        },
        "c327f704056c48dca1a69b342064b54c": {
          "model_module": "@jupyter-widgets/controls",
          "model_name": "DescriptionStyleModel",
          "model_module_version": "1.5.0",
          "state": {
            "_model_module": "@jupyter-widgets/controls",
            "_model_module_version": "1.5.0",
            "_model_name": "DescriptionStyleModel",
            "_view_count": null,
            "_view_module": "@jupyter-widgets/base",
            "_view_module_version": "1.2.0",
            "_view_name": "StyleView",
            "description_width": ""
          }
        },
        "816b2d9a1c57493696d93f3145a92e22": {
          "model_module": "@jupyter-widgets/controls",
          "model_name": "HBoxModel",
          "model_module_version": "1.5.0",
          "state": {
            "_dom_classes": [],
            "_model_module": "@jupyter-widgets/controls",
            "_model_module_version": "1.5.0",
            "_model_name": "HBoxModel",
            "_view_count": null,
            "_view_module": "@jupyter-widgets/controls",
            "_view_module_version": "1.5.0",
            "_view_name": "HBoxView",
            "box_style": "",
            "children": [
              "IPY_MODEL_dd457dad92c84de6bd5481f6eb0f6f8b",
              "IPY_MODEL_5a06fcb8c1424e749632b449f677568c",
              "IPY_MODEL_126b44cf2fdd4f50a09718762c395f66"
            ],
            "layout": "IPY_MODEL_0c4fe6fdc3d342e7953f00900e1b852d"
          }
        },
        "dd457dad92c84de6bd5481f6eb0f6f8b": {
          "model_module": "@jupyter-widgets/controls",
          "model_name": "HTMLModel",
          "model_module_version": "1.5.0",
          "state": {
            "_dom_classes": [],
            "_model_module": "@jupyter-widgets/controls",
            "_model_module_version": "1.5.0",
            "_model_name": "HTMLModel",
            "_view_count": null,
            "_view_module": "@jupyter-widgets/controls",
            "_view_module_version": "1.5.0",
            "_view_name": "HTMLView",
            "description": "",
            "description_tooltip": null,
            "layout": "IPY_MODEL_695cae3a10434ca9bf47f74728cece71",
            "placeholder": "​",
            "style": "IPY_MODEL_a9c60055507545199241aceeb2821d70",
            "value": "tokenizer_config.json: 100%"
          }
        },
        "5a06fcb8c1424e749632b449f677568c": {
          "model_module": "@jupyter-widgets/controls",
          "model_name": "FloatProgressModel",
          "model_module_version": "1.5.0",
          "state": {
            "_dom_classes": [],
            "_model_module": "@jupyter-widgets/controls",
            "_model_module_version": "1.5.0",
            "_model_name": "FloatProgressModel",
            "_view_count": null,
            "_view_module": "@jupyter-widgets/controls",
            "_view_module_version": "1.5.0",
            "_view_name": "ProgressView",
            "bar_style": "success",
            "description": "",
            "description_tooltip": null,
            "layout": "IPY_MODEL_f309f9c891ae47c79bad46eea9a779f9",
            "max": 48,
            "min": 0,
            "orientation": "horizontal",
            "style": "IPY_MODEL_84af51dfe08b429e9ca3903116e2f314",
            "value": 48
          }
        },
        "126b44cf2fdd4f50a09718762c395f66": {
          "model_module": "@jupyter-widgets/controls",
          "model_name": "HTMLModel",
          "model_module_version": "1.5.0",
          "state": {
            "_dom_classes": [],
            "_model_module": "@jupyter-widgets/controls",
            "_model_module_version": "1.5.0",
            "_model_name": "HTMLModel",
            "_view_count": null,
            "_view_module": "@jupyter-widgets/controls",
            "_view_module_version": "1.5.0",
            "_view_name": "HTMLView",
            "description": "",
            "description_tooltip": null,
            "layout": "IPY_MODEL_fce54354936b416c8933356369832853",
            "placeholder": "​",
            "style": "IPY_MODEL_9fa25184a6f545089dc923a243ef8216",
            "value": " 48.0/48.0 [00:00&lt;00:00, 1.44kB/s]"
          }
        },
        "0c4fe6fdc3d342e7953f00900e1b852d": {
          "model_module": "@jupyter-widgets/base",
          "model_name": "LayoutModel",
          "model_module_version": "1.2.0",
          "state": {
            "_model_module": "@jupyter-widgets/base",
            "_model_module_version": "1.2.0",
            "_model_name": "LayoutModel",
            "_view_count": null,
            "_view_module": "@jupyter-widgets/base",
            "_view_module_version": "1.2.0",
            "_view_name": "LayoutView",
            "align_content": null,
            "align_items": null,
            "align_self": null,
            "border": null,
            "bottom": null,
            "display": null,
            "flex": null,
            "flex_flow": null,
            "grid_area": null,
            "grid_auto_columns": null,
            "grid_auto_flow": null,
            "grid_auto_rows": null,
            "grid_column": null,
            "grid_gap": null,
            "grid_row": null,
            "grid_template_areas": null,
            "grid_template_columns": null,
            "grid_template_rows": null,
            "height": null,
            "justify_content": null,
            "justify_items": null,
            "left": null,
            "margin": null,
            "max_height": null,
            "max_width": null,
            "min_height": null,
            "min_width": null,
            "object_fit": null,
            "object_position": null,
            "order": null,
            "overflow": null,
            "overflow_x": null,
            "overflow_y": null,
            "padding": null,
            "right": null,
            "top": null,
            "visibility": null,
            "width": null
          }
        },
        "695cae3a10434ca9bf47f74728cece71": {
          "model_module": "@jupyter-widgets/base",
          "model_name": "LayoutModel",
          "model_module_version": "1.2.0",
          "state": {
            "_model_module": "@jupyter-widgets/base",
            "_model_module_version": "1.2.0",
            "_model_name": "LayoutModel",
            "_view_count": null,
            "_view_module": "@jupyter-widgets/base",
            "_view_module_version": "1.2.0",
            "_view_name": "LayoutView",
            "align_content": null,
            "align_items": null,
            "align_self": null,
            "border": null,
            "bottom": null,
            "display": null,
            "flex": null,
            "flex_flow": null,
            "grid_area": null,
            "grid_auto_columns": null,
            "grid_auto_flow": null,
            "grid_auto_rows": null,
            "grid_column": null,
            "grid_gap": null,
            "grid_row": null,
            "grid_template_areas": null,
            "grid_template_columns": null,
            "grid_template_rows": null,
            "height": null,
            "justify_content": null,
            "justify_items": null,
            "left": null,
            "margin": null,
            "max_height": null,
            "max_width": null,
            "min_height": null,
            "min_width": null,
            "object_fit": null,
            "object_position": null,
            "order": null,
            "overflow": null,
            "overflow_x": null,
            "overflow_y": null,
            "padding": null,
            "right": null,
            "top": null,
            "visibility": null,
            "width": null
          }
        },
        "a9c60055507545199241aceeb2821d70": {
          "model_module": "@jupyter-widgets/controls",
          "model_name": "DescriptionStyleModel",
          "model_module_version": "1.5.0",
          "state": {
            "_model_module": "@jupyter-widgets/controls",
            "_model_module_version": "1.5.0",
            "_model_name": "DescriptionStyleModel",
            "_view_count": null,
            "_view_module": "@jupyter-widgets/base",
            "_view_module_version": "1.2.0",
            "_view_name": "StyleView",
            "description_width": ""
          }
        },
        "f309f9c891ae47c79bad46eea9a779f9": {
          "model_module": "@jupyter-widgets/base",
          "model_name": "LayoutModel",
          "model_module_version": "1.2.0",
          "state": {
            "_model_module": "@jupyter-widgets/base",
            "_model_module_version": "1.2.0",
            "_model_name": "LayoutModel",
            "_view_count": null,
            "_view_module": "@jupyter-widgets/base",
            "_view_module_version": "1.2.0",
            "_view_name": "LayoutView",
            "align_content": null,
            "align_items": null,
            "align_self": null,
            "border": null,
            "bottom": null,
            "display": null,
            "flex": null,
            "flex_flow": null,
            "grid_area": null,
            "grid_auto_columns": null,
            "grid_auto_flow": null,
            "grid_auto_rows": null,
            "grid_column": null,
            "grid_gap": null,
            "grid_row": null,
            "grid_template_areas": null,
            "grid_template_columns": null,
            "grid_template_rows": null,
            "height": null,
            "justify_content": null,
            "justify_items": null,
            "left": null,
            "margin": null,
            "max_height": null,
            "max_width": null,
            "min_height": null,
            "min_width": null,
            "object_fit": null,
            "object_position": null,
            "order": null,
            "overflow": null,
            "overflow_x": null,
            "overflow_y": null,
            "padding": null,
            "right": null,
            "top": null,
            "visibility": null,
            "width": null
          }
        },
        "84af51dfe08b429e9ca3903116e2f314": {
          "model_module": "@jupyter-widgets/controls",
          "model_name": "ProgressStyleModel",
          "model_module_version": "1.5.0",
          "state": {
            "_model_module": "@jupyter-widgets/controls",
            "_model_module_version": "1.5.0",
            "_model_name": "ProgressStyleModel",
            "_view_count": null,
            "_view_module": "@jupyter-widgets/base",
            "_view_module_version": "1.2.0",
            "_view_name": "StyleView",
            "bar_color": null,
            "description_width": ""
          }
        },
        "fce54354936b416c8933356369832853": {
          "model_module": "@jupyter-widgets/base",
          "model_name": "LayoutModel",
          "model_module_version": "1.2.0",
          "state": {
            "_model_module": "@jupyter-widgets/base",
            "_model_module_version": "1.2.0",
            "_model_name": "LayoutModel",
            "_view_count": null,
            "_view_module": "@jupyter-widgets/base",
            "_view_module_version": "1.2.0",
            "_view_name": "LayoutView",
            "align_content": null,
            "align_items": null,
            "align_self": null,
            "border": null,
            "bottom": null,
            "display": null,
            "flex": null,
            "flex_flow": null,
            "grid_area": null,
            "grid_auto_columns": null,
            "grid_auto_flow": null,
            "grid_auto_rows": null,
            "grid_column": null,
            "grid_gap": null,
            "grid_row": null,
            "grid_template_areas": null,
            "grid_template_columns": null,
            "grid_template_rows": null,
            "height": null,
            "justify_content": null,
            "justify_items": null,
            "left": null,
            "margin": null,
            "max_height": null,
            "max_width": null,
            "min_height": null,
            "min_width": null,
            "object_fit": null,
            "object_position": null,
            "order": null,
            "overflow": null,
            "overflow_x": null,
            "overflow_y": null,
            "padding": null,
            "right": null,
            "top": null,
            "visibility": null,
            "width": null
          }
        },
        "9fa25184a6f545089dc923a243ef8216": {
          "model_module": "@jupyter-widgets/controls",
          "model_name": "DescriptionStyleModel",
          "model_module_version": "1.5.0",
          "state": {
            "_model_module": "@jupyter-widgets/controls",
            "_model_module_version": "1.5.0",
            "_model_name": "DescriptionStyleModel",
            "_view_count": null,
            "_view_module": "@jupyter-widgets/base",
            "_view_module_version": "1.2.0",
            "_view_name": "StyleView",
            "description_width": ""
          }
        },
        "1833b25bc3c54fc98ff806b35f41fd16": {
          "model_module": "@jupyter-widgets/controls",
          "model_name": "HBoxModel",
          "model_module_version": "1.5.0",
          "state": {
            "_dom_classes": [],
            "_model_module": "@jupyter-widgets/controls",
            "_model_module_version": "1.5.0",
            "_model_name": "HBoxModel",
            "_view_count": null,
            "_view_module": "@jupyter-widgets/controls",
            "_view_module_version": "1.5.0",
            "_view_name": "HBoxView",
            "box_style": "",
            "children": [
              "IPY_MODEL_2a256b97582a41a3bc793855ab21f195",
              "IPY_MODEL_97814e4ae193443499a7e2f0aa7faefc",
              "IPY_MODEL_485bf5d4aa5b441a9e89833717e59a3e"
            ],
            "layout": "IPY_MODEL_10b25180f778407cbf148e159525cb5e"
          }
        },
        "2a256b97582a41a3bc793855ab21f195": {
          "model_module": "@jupyter-widgets/controls",
          "model_name": "HTMLModel",
          "model_module_version": "1.5.0",
          "state": {
            "_dom_classes": [],
            "_model_module": "@jupyter-widgets/controls",
            "_model_module_version": "1.5.0",
            "_model_name": "HTMLModel",
            "_view_count": null,
            "_view_module": "@jupyter-widgets/controls",
            "_view_module_version": "1.5.0",
            "_view_name": "HTMLView",
            "description": "",
            "description_tooltip": null,
            "layout": "IPY_MODEL_a5d3b08a75b74eeaa4c561f72fc90ee3",
            "placeholder": "​",
            "style": "IPY_MODEL_1c15467d611c49bab1c1be0226bc1d7a",
            "value": "vocab.txt: 100%"
          }
        },
        "97814e4ae193443499a7e2f0aa7faefc": {
          "model_module": "@jupyter-widgets/controls",
          "model_name": "FloatProgressModel",
          "model_module_version": "1.5.0",
          "state": {
            "_dom_classes": [],
            "_model_module": "@jupyter-widgets/controls",
            "_model_module_version": "1.5.0",
            "_model_name": "FloatProgressModel",
            "_view_count": null,
            "_view_module": "@jupyter-widgets/controls",
            "_view_module_version": "1.5.0",
            "_view_name": "ProgressView",
            "bar_style": "success",
            "description": "",
            "description_tooltip": null,
            "layout": "IPY_MODEL_0ed2bd528afd44c7b9384599d6f4259e",
            "max": 231508,
            "min": 0,
            "orientation": "horizontal",
            "style": "IPY_MODEL_051591cbe81242c397c938df72a30894",
            "value": 231508
          }
        },
        "485bf5d4aa5b441a9e89833717e59a3e": {
          "model_module": "@jupyter-widgets/controls",
          "model_name": "HTMLModel",
          "model_module_version": "1.5.0",
          "state": {
            "_dom_classes": [],
            "_model_module": "@jupyter-widgets/controls",
            "_model_module_version": "1.5.0",
            "_model_name": "HTMLModel",
            "_view_count": null,
            "_view_module": "@jupyter-widgets/controls",
            "_view_module_version": "1.5.0",
            "_view_name": "HTMLView",
            "description": "",
            "description_tooltip": null,
            "layout": "IPY_MODEL_66cb65fd960744799d0750cd454f74b1",
            "placeholder": "​",
            "style": "IPY_MODEL_6340dfe46bd04b178cfc52aa000ec43d",
            "value": " 232k/232k [00:00&lt;00:00, 4.30MB/s]"
          }
        },
        "10b25180f778407cbf148e159525cb5e": {
          "model_module": "@jupyter-widgets/base",
          "model_name": "LayoutModel",
          "model_module_version": "1.2.0",
          "state": {
            "_model_module": "@jupyter-widgets/base",
            "_model_module_version": "1.2.0",
            "_model_name": "LayoutModel",
            "_view_count": null,
            "_view_module": "@jupyter-widgets/base",
            "_view_module_version": "1.2.0",
            "_view_name": "LayoutView",
            "align_content": null,
            "align_items": null,
            "align_self": null,
            "border": null,
            "bottom": null,
            "display": null,
            "flex": null,
            "flex_flow": null,
            "grid_area": null,
            "grid_auto_columns": null,
            "grid_auto_flow": null,
            "grid_auto_rows": null,
            "grid_column": null,
            "grid_gap": null,
            "grid_row": null,
            "grid_template_areas": null,
            "grid_template_columns": null,
            "grid_template_rows": null,
            "height": null,
            "justify_content": null,
            "justify_items": null,
            "left": null,
            "margin": null,
            "max_height": null,
            "max_width": null,
            "min_height": null,
            "min_width": null,
            "object_fit": null,
            "object_position": null,
            "order": null,
            "overflow": null,
            "overflow_x": null,
            "overflow_y": null,
            "padding": null,
            "right": null,
            "top": null,
            "visibility": null,
            "width": null
          }
        },
        "a5d3b08a75b74eeaa4c561f72fc90ee3": {
          "model_module": "@jupyter-widgets/base",
          "model_name": "LayoutModel",
          "model_module_version": "1.2.0",
          "state": {
            "_model_module": "@jupyter-widgets/base",
            "_model_module_version": "1.2.0",
            "_model_name": "LayoutModel",
            "_view_count": null,
            "_view_module": "@jupyter-widgets/base",
            "_view_module_version": "1.2.0",
            "_view_name": "LayoutView",
            "align_content": null,
            "align_items": null,
            "align_self": null,
            "border": null,
            "bottom": null,
            "display": null,
            "flex": null,
            "flex_flow": null,
            "grid_area": null,
            "grid_auto_columns": null,
            "grid_auto_flow": null,
            "grid_auto_rows": null,
            "grid_column": null,
            "grid_gap": null,
            "grid_row": null,
            "grid_template_areas": null,
            "grid_template_columns": null,
            "grid_template_rows": null,
            "height": null,
            "justify_content": null,
            "justify_items": null,
            "left": null,
            "margin": null,
            "max_height": null,
            "max_width": null,
            "min_height": null,
            "min_width": null,
            "object_fit": null,
            "object_position": null,
            "order": null,
            "overflow": null,
            "overflow_x": null,
            "overflow_y": null,
            "padding": null,
            "right": null,
            "top": null,
            "visibility": null,
            "width": null
          }
        },
        "1c15467d611c49bab1c1be0226bc1d7a": {
          "model_module": "@jupyter-widgets/controls",
          "model_name": "DescriptionStyleModel",
          "model_module_version": "1.5.0",
          "state": {
            "_model_module": "@jupyter-widgets/controls",
            "_model_module_version": "1.5.0",
            "_model_name": "DescriptionStyleModel",
            "_view_count": null,
            "_view_module": "@jupyter-widgets/base",
            "_view_module_version": "1.2.0",
            "_view_name": "StyleView",
            "description_width": ""
          }
        },
        "0ed2bd528afd44c7b9384599d6f4259e": {
          "model_module": "@jupyter-widgets/base",
          "model_name": "LayoutModel",
          "model_module_version": "1.2.0",
          "state": {
            "_model_module": "@jupyter-widgets/base",
            "_model_module_version": "1.2.0",
            "_model_name": "LayoutModel",
            "_view_count": null,
            "_view_module": "@jupyter-widgets/base",
            "_view_module_version": "1.2.0",
            "_view_name": "LayoutView",
            "align_content": null,
            "align_items": null,
            "align_self": null,
            "border": null,
            "bottom": null,
            "display": null,
            "flex": null,
            "flex_flow": null,
            "grid_area": null,
            "grid_auto_columns": null,
            "grid_auto_flow": null,
            "grid_auto_rows": null,
            "grid_column": null,
            "grid_gap": null,
            "grid_row": null,
            "grid_template_areas": null,
            "grid_template_columns": null,
            "grid_template_rows": null,
            "height": null,
            "justify_content": null,
            "justify_items": null,
            "left": null,
            "margin": null,
            "max_height": null,
            "max_width": null,
            "min_height": null,
            "min_width": null,
            "object_fit": null,
            "object_position": null,
            "order": null,
            "overflow": null,
            "overflow_x": null,
            "overflow_y": null,
            "padding": null,
            "right": null,
            "top": null,
            "visibility": null,
            "width": null
          }
        },
        "051591cbe81242c397c938df72a30894": {
          "model_module": "@jupyter-widgets/controls",
          "model_name": "ProgressStyleModel",
          "model_module_version": "1.5.0",
          "state": {
            "_model_module": "@jupyter-widgets/controls",
            "_model_module_version": "1.5.0",
            "_model_name": "ProgressStyleModel",
            "_view_count": null,
            "_view_module": "@jupyter-widgets/base",
            "_view_module_version": "1.2.0",
            "_view_name": "StyleView",
            "bar_color": null,
            "description_width": ""
          }
        },
        "66cb65fd960744799d0750cd454f74b1": {
          "model_module": "@jupyter-widgets/base",
          "model_name": "LayoutModel",
          "model_module_version": "1.2.0",
          "state": {
            "_model_module": "@jupyter-widgets/base",
            "_model_module_version": "1.2.0",
            "_model_name": "LayoutModel",
            "_view_count": null,
            "_view_module": "@jupyter-widgets/base",
            "_view_module_version": "1.2.0",
            "_view_name": "LayoutView",
            "align_content": null,
            "align_items": null,
            "align_self": null,
            "border": null,
            "bottom": null,
            "display": null,
            "flex": null,
            "flex_flow": null,
            "grid_area": null,
            "grid_auto_columns": null,
            "grid_auto_flow": null,
            "grid_auto_rows": null,
            "grid_column": null,
            "grid_gap": null,
            "grid_row": null,
            "grid_template_areas": null,
            "grid_template_columns": null,
            "grid_template_rows": null,
            "height": null,
            "justify_content": null,
            "justify_items": null,
            "left": null,
            "margin": null,
            "max_height": null,
            "max_width": null,
            "min_height": null,
            "min_width": null,
            "object_fit": null,
            "object_position": null,
            "order": null,
            "overflow": null,
            "overflow_x": null,
            "overflow_y": null,
            "padding": null,
            "right": null,
            "top": null,
            "visibility": null,
            "width": null
          }
        },
        "6340dfe46bd04b178cfc52aa000ec43d": {
          "model_module": "@jupyter-widgets/controls",
          "model_name": "DescriptionStyleModel",
          "model_module_version": "1.5.0",
          "state": {
            "_model_module": "@jupyter-widgets/controls",
            "_model_module_version": "1.5.0",
            "_model_name": "DescriptionStyleModel",
            "_view_count": null,
            "_view_module": "@jupyter-widgets/base",
            "_view_module_version": "1.2.0",
            "_view_name": "StyleView",
            "description_width": ""
          }
        },
        "a8edfff9353a48c3b75a46a588c011cb": {
          "model_module": "@jupyter-widgets/controls",
          "model_name": "HBoxModel",
          "model_module_version": "1.5.0",
          "state": {
            "_dom_classes": [],
            "_model_module": "@jupyter-widgets/controls",
            "_model_module_version": "1.5.0",
            "_model_name": "HBoxModel",
            "_view_count": null,
            "_view_module": "@jupyter-widgets/controls",
            "_view_module_version": "1.5.0",
            "_view_name": "HBoxView",
            "box_style": "",
            "children": [
              "IPY_MODEL_100a362d6836477cb5399b52e5677315",
              "IPY_MODEL_fd364caf7f384e8bb00a67f7e5ec755a",
              "IPY_MODEL_f99e8da1a3384d7cbf7e63194438cb8f"
            ],
            "layout": "IPY_MODEL_3b8d697f187a4f98a6c8395700419219"
          }
        },
        "100a362d6836477cb5399b52e5677315": {
          "model_module": "@jupyter-widgets/controls",
          "model_name": "HTMLModel",
          "model_module_version": "1.5.0",
          "state": {
            "_dom_classes": [],
            "_model_module": "@jupyter-widgets/controls",
            "_model_module_version": "1.5.0",
            "_model_name": "HTMLModel",
            "_view_count": null,
            "_view_module": "@jupyter-widgets/controls",
            "_view_module_version": "1.5.0",
            "_view_name": "HTMLView",
            "description": "",
            "description_tooltip": null,
            "layout": "IPY_MODEL_d92d38273ccf436ebe8eee067dd80f98",
            "placeholder": "​",
            "style": "IPY_MODEL_fa28ee18ac8a4a57a65b2ce928ebd1e7",
            "value": "tokenizer.json: 100%"
          }
        },
        "fd364caf7f384e8bb00a67f7e5ec755a": {
          "model_module": "@jupyter-widgets/controls",
          "model_name": "FloatProgressModel",
          "model_module_version": "1.5.0",
          "state": {
            "_dom_classes": [],
            "_model_module": "@jupyter-widgets/controls",
            "_model_module_version": "1.5.0",
            "_model_name": "FloatProgressModel",
            "_view_count": null,
            "_view_module": "@jupyter-widgets/controls",
            "_view_module_version": "1.5.0",
            "_view_name": "ProgressView",
            "bar_style": "success",
            "description": "",
            "description_tooltip": null,
            "layout": "IPY_MODEL_f7a974e75b2c470d9933016dbe35ce21",
            "max": 466062,
            "min": 0,
            "orientation": "horizontal",
            "style": "IPY_MODEL_24609c54d22640758bf81ec22d40a909",
            "value": 466062
          }
        },
        "f99e8da1a3384d7cbf7e63194438cb8f": {
          "model_module": "@jupyter-widgets/controls",
          "model_name": "HTMLModel",
          "model_module_version": "1.5.0",
          "state": {
            "_dom_classes": [],
            "_model_module": "@jupyter-widgets/controls",
            "_model_module_version": "1.5.0",
            "_model_name": "HTMLModel",
            "_view_count": null,
            "_view_module": "@jupyter-widgets/controls",
            "_view_module_version": "1.5.0",
            "_view_name": "HTMLView",
            "description": "",
            "description_tooltip": null,
            "layout": "IPY_MODEL_2134bfedb96149f492019da207eca60f",
            "placeholder": "​",
            "style": "IPY_MODEL_2d508792a46c4425b7c03581dfe72710",
            "value": " 466k/466k [00:00&lt;00:00, 10.0MB/s]"
          }
        },
        "3b8d697f187a4f98a6c8395700419219": {
          "model_module": "@jupyter-widgets/base",
          "model_name": "LayoutModel",
          "model_module_version": "1.2.0",
          "state": {
            "_model_module": "@jupyter-widgets/base",
            "_model_module_version": "1.2.0",
            "_model_name": "LayoutModel",
            "_view_count": null,
            "_view_module": "@jupyter-widgets/base",
            "_view_module_version": "1.2.0",
            "_view_name": "LayoutView",
            "align_content": null,
            "align_items": null,
            "align_self": null,
            "border": null,
            "bottom": null,
            "display": null,
            "flex": null,
            "flex_flow": null,
            "grid_area": null,
            "grid_auto_columns": null,
            "grid_auto_flow": null,
            "grid_auto_rows": null,
            "grid_column": null,
            "grid_gap": null,
            "grid_row": null,
            "grid_template_areas": null,
            "grid_template_columns": null,
            "grid_template_rows": null,
            "height": null,
            "justify_content": null,
            "justify_items": null,
            "left": null,
            "margin": null,
            "max_height": null,
            "max_width": null,
            "min_height": null,
            "min_width": null,
            "object_fit": null,
            "object_position": null,
            "order": null,
            "overflow": null,
            "overflow_x": null,
            "overflow_y": null,
            "padding": null,
            "right": null,
            "top": null,
            "visibility": null,
            "width": null
          }
        },
        "d92d38273ccf436ebe8eee067dd80f98": {
          "model_module": "@jupyter-widgets/base",
          "model_name": "LayoutModel",
          "model_module_version": "1.2.0",
          "state": {
            "_model_module": "@jupyter-widgets/base",
            "_model_module_version": "1.2.0",
            "_model_name": "LayoutModel",
            "_view_count": null,
            "_view_module": "@jupyter-widgets/base",
            "_view_module_version": "1.2.0",
            "_view_name": "LayoutView",
            "align_content": null,
            "align_items": null,
            "align_self": null,
            "border": null,
            "bottom": null,
            "display": null,
            "flex": null,
            "flex_flow": null,
            "grid_area": null,
            "grid_auto_columns": null,
            "grid_auto_flow": null,
            "grid_auto_rows": null,
            "grid_column": null,
            "grid_gap": null,
            "grid_row": null,
            "grid_template_areas": null,
            "grid_template_columns": null,
            "grid_template_rows": null,
            "height": null,
            "justify_content": null,
            "justify_items": null,
            "left": null,
            "margin": null,
            "max_height": null,
            "max_width": null,
            "min_height": null,
            "min_width": null,
            "object_fit": null,
            "object_position": null,
            "order": null,
            "overflow": null,
            "overflow_x": null,
            "overflow_y": null,
            "padding": null,
            "right": null,
            "top": null,
            "visibility": null,
            "width": null
          }
        },
        "fa28ee18ac8a4a57a65b2ce928ebd1e7": {
          "model_module": "@jupyter-widgets/controls",
          "model_name": "DescriptionStyleModel",
          "model_module_version": "1.5.0",
          "state": {
            "_model_module": "@jupyter-widgets/controls",
            "_model_module_version": "1.5.0",
            "_model_name": "DescriptionStyleModel",
            "_view_count": null,
            "_view_module": "@jupyter-widgets/base",
            "_view_module_version": "1.2.0",
            "_view_name": "StyleView",
            "description_width": ""
          }
        },
        "f7a974e75b2c470d9933016dbe35ce21": {
          "model_module": "@jupyter-widgets/base",
          "model_name": "LayoutModel",
          "model_module_version": "1.2.0",
          "state": {
            "_model_module": "@jupyter-widgets/base",
            "_model_module_version": "1.2.0",
            "_model_name": "LayoutModel",
            "_view_count": null,
            "_view_module": "@jupyter-widgets/base",
            "_view_module_version": "1.2.0",
            "_view_name": "LayoutView",
            "align_content": null,
            "align_items": null,
            "align_self": null,
            "border": null,
            "bottom": null,
            "display": null,
            "flex": null,
            "flex_flow": null,
            "grid_area": null,
            "grid_auto_columns": null,
            "grid_auto_flow": null,
            "grid_auto_rows": null,
            "grid_column": null,
            "grid_gap": null,
            "grid_row": null,
            "grid_template_areas": null,
            "grid_template_columns": null,
            "grid_template_rows": null,
            "height": null,
            "justify_content": null,
            "justify_items": null,
            "left": null,
            "margin": null,
            "max_height": null,
            "max_width": null,
            "min_height": null,
            "min_width": null,
            "object_fit": null,
            "object_position": null,
            "order": null,
            "overflow": null,
            "overflow_x": null,
            "overflow_y": null,
            "padding": null,
            "right": null,
            "top": null,
            "visibility": null,
            "width": null
          }
        },
        "24609c54d22640758bf81ec22d40a909": {
          "model_module": "@jupyter-widgets/controls",
          "model_name": "ProgressStyleModel",
          "model_module_version": "1.5.0",
          "state": {
            "_model_module": "@jupyter-widgets/controls",
            "_model_module_version": "1.5.0",
            "_model_name": "ProgressStyleModel",
            "_view_count": null,
            "_view_module": "@jupyter-widgets/base",
            "_view_module_version": "1.2.0",
            "_view_name": "StyleView",
            "bar_color": null,
            "description_width": ""
          }
        },
        "2134bfedb96149f492019da207eca60f": {
          "model_module": "@jupyter-widgets/base",
          "model_name": "LayoutModel",
          "model_module_version": "1.2.0",
          "state": {
            "_model_module": "@jupyter-widgets/base",
            "_model_module_version": "1.2.0",
            "_model_name": "LayoutModel",
            "_view_count": null,
            "_view_module": "@jupyter-widgets/base",
            "_view_module_version": "1.2.0",
            "_view_name": "LayoutView",
            "align_content": null,
            "align_items": null,
            "align_self": null,
            "border": null,
            "bottom": null,
            "display": null,
            "flex": null,
            "flex_flow": null,
            "grid_area": null,
            "grid_auto_columns": null,
            "grid_auto_flow": null,
            "grid_auto_rows": null,
            "grid_column": null,
            "grid_gap": null,
            "grid_row": null,
            "grid_template_areas": null,
            "grid_template_columns": null,
            "grid_template_rows": null,
            "height": null,
            "justify_content": null,
            "justify_items": null,
            "left": null,
            "margin": null,
            "max_height": null,
            "max_width": null,
            "min_height": null,
            "min_width": null,
            "object_fit": null,
            "object_position": null,
            "order": null,
            "overflow": null,
            "overflow_x": null,
            "overflow_y": null,
            "padding": null,
            "right": null,
            "top": null,
            "visibility": null,
            "width": null
          }
        },
        "2d508792a46c4425b7c03581dfe72710": {
          "model_module": "@jupyter-widgets/controls",
          "model_name": "DescriptionStyleModel",
          "model_module_version": "1.5.0",
          "state": {
            "_model_module": "@jupyter-widgets/controls",
            "_model_module_version": "1.5.0",
            "_model_name": "DescriptionStyleModel",
            "_view_count": null,
            "_view_module": "@jupyter-widgets/base",
            "_view_module_version": "1.2.0",
            "_view_name": "StyleView",
            "description_width": ""
          }
        }
      }
    },
    "accelerator": "GPU"
  },
  "nbformat": 4,
  "nbformat_minor": 5
}